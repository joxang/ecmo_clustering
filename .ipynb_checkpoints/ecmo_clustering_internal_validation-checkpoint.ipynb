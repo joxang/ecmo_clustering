{
 "cells": [
  {
   "cell_type": "code",
   "execution_count": 1,
   "metadata": {},
   "outputs": [],
   "source": [
    "import pandas as pd #make data-frames and summarise data\n",
    "import numpy as np #manipulate multi-dimensional arrays\n",
    "import os as os #file system read\n",
    "import matplotlib.pyplot as plt #visualisation\n",
    "import seaborn as sns\n",
    "from scipy import stats #stats tests\n",
    "from sklearn import preprocessing\n",
    "from sklearn.cluster import KMeans\n",
    "from scipy.stats import ttest_ind \n",
    "from scipy.stats import fisher_exact\n",
    "\n",
    "from sklearn.experimental import enable_iterative_imputer\n",
    "from sklearn.impute import IterativeImputer\n",
    "from sklearn.impute import KNNImputer"
   ]
  },
  {
   "cell_type": "code",
   "execution_count": 2,
   "metadata": {},
   "outputs": [
    {
     "name": "stdout",
     "output_type": "stream",
     "text": [
      "age         0\n",
      "bmi         0\n",
      "ed_v        1\n",
      "v_vv        0\n",
      "sofa        0\n",
      "pfr         4\n",
      "pco2        6\n",
      "pplat       6\n",
      "lymph       0\n",
      "nlrat       0\n",
      "pct         1\n",
      "ferritin    0\n",
      "crp         0\n",
      "fib         0\n",
      "ddim        1\n",
      "dtype: int64\n"
     ]
    }
   ],
   "source": [
    "ecmodf = pd.read_csv('ecmo.csv', index_col=0)\n",
    "ecmodf = ecmodf.drop(columns=['sx_v', 'neut', 'cr'])\n",
    "print(ecmodf.isnull().sum()) #count null values"
   ]
  },
  {
   "cell_type": "markdown",
   "metadata": {},
   "source": [
    "## Iterative round robin regression imputation maintains original clusters"
   ]
  },
  {
   "cell_type": "code",
   "execution_count": 3,
   "metadata": {},
   "outputs": [
    {
     "name": "stdout",
     "output_type": "stream",
     "text": [
      "[IterativeImputer] Completing matrix with shape (56, 15)\n",
      "[IterativeImputer] Ending imputation round 1/20, elapsed time 0.03\n",
      "[IterativeImputer] Change: 6.933892399837763, scaled tolerance: 38.053 \n",
      "[IterativeImputer] Early stopping criterion reached.\n"
     ]
    },
    {
     "data": {
      "text/plain": [
       "IterativeImputer(add_indicator=False, estimator=None,\n",
       "                 imputation_order='ascending', initial_strategy='mean',\n",
       "                 max_iter=20, max_value=None, min_value=0, missing_values=nan,\n",
       "                 n_nearest_features=None, random_state=None,\n",
       "                 sample_posterior=False, skip_complete=False, tol=0.001,\n",
       "                 verbose=2)"
      ]
     },
     "execution_count": 3,
     "metadata": {},
     "output_type": "execute_result"
    }
   ],
   "source": [
    "imp = IterativeImputer(verbose=2, max_iter=20, min_value=0)\n",
    "ecmodf_impute = ecmodf.copy()\n",
    "imp.fit(ecmodf_impute)"
   ]
  },
  {
   "cell_type": "code",
   "execution_count": 4,
   "metadata": {},
   "outputs": [
    {
     "name": "stdout",
     "output_type": "stream",
     "text": [
      "[IterativeImputer] Completing matrix with shape (56, 15)\n",
      "[IterativeImputer] Ending imputation round 1/1, elapsed time 0.00\n"
     ]
    }
   ],
   "source": [
    "ecmodf = pd.DataFrame(imp.transform(ecmodf_impute), columns = ecmodf.columns, index = ecmodf.index)"
   ]
  },
  {
   "cell_type": "code",
   "execution_count": 5,
   "metadata": {},
   "outputs": [
    {
     "name": "stdout",
     "output_type": "stream",
     "text": [
      "age         0\n",
      "bmi         0\n",
      "ed_v        0\n",
      "v_vv        0\n",
      "sofa        0\n",
      "pfr         0\n",
      "pco2        0\n",
      "pplat       0\n",
      "lymph       0\n",
      "nlrat       0\n",
      "pct         0\n",
      "ferritin    0\n",
      "crp         0\n",
      "fib         0\n",
      "ddim        0\n",
      "dtype: int64\n"
     ]
    }
   ],
   "source": [
    "print(ecmodf.isnull().sum())"
   ]
  },
  {
   "cell_type": "code",
   "execution_count": 6,
   "metadata": {},
   "outputs": [
    {
     "data": {
      "text/html": [
       "<div>\n",
       "<style scoped>\n",
       "    .dataframe tbody tr th:only-of-type {\n",
       "        vertical-align: middle;\n",
       "    }\n",
       "\n",
       "    .dataframe tbody tr th {\n",
       "        vertical-align: top;\n",
       "    }\n",
       "\n",
       "    .dataframe thead th {\n",
       "        text-align: right;\n",
       "    }\n",
       "</style>\n",
       "<table border=\"1\" class=\"dataframe\">\n",
       "  <thead>\n",
       "    <tr style=\"text-align: right;\">\n",
       "      <th></th>\n",
       "      <th>age</th>\n",
       "      <th>bmi</th>\n",
       "      <th>ed_v</th>\n",
       "      <th>v_vv</th>\n",
       "      <th>sofa</th>\n",
       "      <th>pfr</th>\n",
       "      <th>pco2</th>\n",
       "      <th>pplat</th>\n",
       "      <th>lymph</th>\n",
       "      <th>nlrat</th>\n",
       "      <th>pct</th>\n",
       "      <th>ferritin</th>\n",
       "      <th>crp</th>\n",
       "      <th>fib</th>\n",
       "      <th>ddim</th>\n",
       "    </tr>\n",
       "    <tr>\n",
       "      <th>id</th>\n",
       "      <th></th>\n",
       "      <th></th>\n",
       "      <th></th>\n",
       "      <th></th>\n",
       "      <th></th>\n",
       "      <th></th>\n",
       "      <th></th>\n",
       "      <th></th>\n",
       "      <th></th>\n",
       "      <th></th>\n",
       "      <th></th>\n",
       "      <th></th>\n",
       "      <th></th>\n",
       "      <th></th>\n",
       "      <th></th>\n",
       "    </tr>\n",
       "  </thead>\n",
       "  <tbody>\n",
       "    <tr>\n",
       "      <th>1</th>\n",
       "      <td>46.0</td>\n",
       "      <td>34</td>\n",
       "      <td>3.0</td>\n",
       "      <td>2.0</td>\n",
       "      <td>4.0</td>\n",
       "      <td>48.750000</td>\n",
       "      <td>6.00000</td>\n",
       "      <td>29.000000</td>\n",
       "      <td>0.4</td>\n",
       "      <td>24.0</td>\n",
       "      <td>0.800000</td>\n",
       "      <td>1609.0</td>\n",
       "      <td>306.0</td>\n",
       "      <td>7.2</td>\n",
       "      <td>10.3</td>\n",
       "    </tr>\n",
       "    <tr>\n",
       "      <th>2</th>\n",
       "      <td>34.0</td>\n",
       "      <td>37</td>\n",
       "      <td>6.0</td>\n",
       "      <td>1.0</td>\n",
       "      <td>4.0</td>\n",
       "      <td>76.500000</td>\n",
       "      <td>10.04465</td>\n",
       "      <td>29.513452</td>\n",
       "      <td>0.5</td>\n",
       "      <td>31.2</td>\n",
       "      <td>5.709137</td>\n",
       "      <td>115.0</td>\n",
       "      <td>217.0</td>\n",
       "      <td>4.1</td>\n",
       "      <td>80.0</td>\n",
       "    </tr>\n",
       "    <tr>\n",
       "      <th>3</th>\n",
       "      <td>66.0</td>\n",
       "      <td>26</td>\n",
       "      <td>6.0</td>\n",
       "      <td>1.0</td>\n",
       "      <td>10.0</td>\n",
       "      <td>61.578947</td>\n",
       "      <td>7.55000</td>\n",
       "      <td>28.000000</td>\n",
       "      <td>0.3</td>\n",
       "      <td>19.3</td>\n",
       "      <td>6.290000</td>\n",
       "      <td>5534.0</td>\n",
       "      <td>409.0</td>\n",
       "      <td>7.1</td>\n",
       "      <td>80.0</td>\n",
       "    </tr>\n",
       "    <tr>\n",
       "      <th>4</th>\n",
       "      <td>34.0</td>\n",
       "      <td>36</td>\n",
       "      <td>0.0</td>\n",
       "      <td>2.0</td>\n",
       "      <td>6.0</td>\n",
       "      <td>72.187500</td>\n",
       "      <td>7.10000</td>\n",
       "      <td>30.000000</td>\n",
       "      <td>1.9</td>\n",
       "      <td>9.6</td>\n",
       "      <td>1.210000</td>\n",
       "      <td>267.0</td>\n",
       "      <td>388.0</td>\n",
       "      <td>7.1</td>\n",
       "      <td>7.4</td>\n",
       "    </tr>\n",
       "    <tr>\n",
       "      <th>5</th>\n",
       "      <td>53.0</td>\n",
       "      <td>42</td>\n",
       "      <td>1.0</td>\n",
       "      <td>2.0</td>\n",
       "      <td>12.0</td>\n",
       "      <td>80.833333</td>\n",
       "      <td>9.30000</td>\n",
       "      <td>31.000000</td>\n",
       "      <td>0.8</td>\n",
       "      <td>7.4</td>\n",
       "      <td>100.000000</td>\n",
       "      <td>6023.0</td>\n",
       "      <td>665.0</td>\n",
       "      <td>5.9</td>\n",
       "      <td>73.3</td>\n",
       "    </tr>\n",
       "  </tbody>\n",
       "</table>\n",
       "</div>"
      ],
      "text/plain": [
       "     age  bmi  ed_v  v_vv  sofa        pfr      pco2      pplat  lymph  nlrat  \\\n",
       "id                                                                              \n",
       "1   46.0   34   3.0   2.0   4.0  48.750000   6.00000  29.000000    0.4   24.0   \n",
       "2   34.0   37   6.0   1.0   4.0  76.500000  10.04465  29.513452    0.5   31.2   \n",
       "3   66.0   26   6.0   1.0  10.0  61.578947   7.55000  28.000000    0.3   19.3   \n",
       "4   34.0   36   0.0   2.0   6.0  72.187500   7.10000  30.000000    1.9    9.6   \n",
       "5   53.0   42   1.0   2.0  12.0  80.833333   9.30000  31.000000    0.8    7.4   \n",
       "\n",
       "           pct  ferritin    crp  fib  ddim  \n",
       "id                                          \n",
       "1     0.800000    1609.0  306.0  7.2  10.3  \n",
       "2     5.709137     115.0  217.0  4.1  80.0  \n",
       "3     6.290000    5534.0  409.0  7.1  80.0  \n",
       "4     1.210000     267.0  388.0  7.1   7.4  \n",
       "5   100.000000    6023.0  665.0  5.9  73.3  "
      ]
     },
     "execution_count": 6,
     "metadata": {},
     "output_type": "execute_result"
    }
   ],
   "source": [
    "ecmodf['bmi'] = ecmodf['bmi'].astype('int64')\n",
    "ecmodf.head()"
   ]
  },
  {
   "cell_type": "code",
   "execution_count": 7,
   "metadata": {},
   "outputs": [
    {
     "data": {
      "text/html": [
       "<div>\n",
       "<style scoped>\n",
       "    .dataframe tbody tr th:only-of-type {\n",
       "        vertical-align: middle;\n",
       "    }\n",
       "\n",
       "    .dataframe tbody tr th {\n",
       "        vertical-align: top;\n",
       "    }\n",
       "\n",
       "    .dataframe thead th {\n",
       "        text-align: right;\n",
       "    }\n",
       "</style>\n",
       "<table border=\"1\" class=\"dataframe\">\n",
       "  <thead>\n",
       "    <tr style=\"text-align: right;\">\n",
       "      <th></th>\n",
       "      <th>age</th>\n",
       "      <th>bmi</th>\n",
       "      <th>ed_v</th>\n",
       "      <th>v_vv</th>\n",
       "      <th>sofa</th>\n",
       "      <th>pfr</th>\n",
       "      <th>pco2</th>\n",
       "      <th>pplat</th>\n",
       "      <th>lymph</th>\n",
       "      <th>nlrat</th>\n",
       "      <th>pct</th>\n",
       "      <th>ferritin</th>\n",
       "      <th>crp</th>\n",
       "      <th>fib</th>\n",
       "      <th>ddim</th>\n",
       "    </tr>\n",
       "    <tr>\n",
       "      <th>id</th>\n",
       "      <th></th>\n",
       "      <th></th>\n",
       "      <th></th>\n",
       "      <th></th>\n",
       "      <th></th>\n",
       "      <th></th>\n",
       "      <th></th>\n",
       "      <th></th>\n",
       "      <th></th>\n",
       "      <th></th>\n",
       "      <th></th>\n",
       "      <th></th>\n",
       "      <th></th>\n",
       "      <th></th>\n",
       "      <th></th>\n",
       "    </tr>\n",
       "  </thead>\n",
       "  <tbody>\n",
       "    <tr>\n",
       "      <th>1</th>\n",
       "      <td>46.0</td>\n",
       "      <td>3.526361</td>\n",
       "      <td>3.0</td>\n",
       "      <td>2.0</td>\n",
       "      <td>1.386294</td>\n",
       "      <td>48.750000</td>\n",
       "      <td>1.791759</td>\n",
       "      <td>3.367296</td>\n",
       "      <td>-0.916291</td>\n",
       "      <td>3.178054</td>\n",
       "      <td>-0.223144</td>\n",
       "      <td>7.383368</td>\n",
       "      <td>306.0</td>\n",
       "      <td>7.2</td>\n",
       "      <td>2.332144</td>\n",
       "    </tr>\n",
       "    <tr>\n",
       "      <th>2</th>\n",
       "      <td>34.0</td>\n",
       "      <td>3.610918</td>\n",
       "      <td>6.0</td>\n",
       "      <td>1.0</td>\n",
       "      <td>1.386294</td>\n",
       "      <td>76.500000</td>\n",
       "      <td>2.307040</td>\n",
       "      <td>3.384846</td>\n",
       "      <td>-0.693147</td>\n",
       "      <td>3.440418</td>\n",
       "      <td>1.742068</td>\n",
       "      <td>4.744932</td>\n",
       "      <td>217.0</td>\n",
       "      <td>4.1</td>\n",
       "      <td>4.382027</td>\n",
       "    </tr>\n",
       "    <tr>\n",
       "      <th>3</th>\n",
       "      <td>66.0</td>\n",
       "      <td>3.258097</td>\n",
       "      <td>6.0</td>\n",
       "      <td>1.0</td>\n",
       "      <td>2.302585</td>\n",
       "      <td>61.578947</td>\n",
       "      <td>2.021548</td>\n",
       "      <td>3.332205</td>\n",
       "      <td>-1.203973</td>\n",
       "      <td>2.960105</td>\n",
       "      <td>1.838961</td>\n",
       "      <td>8.618666</td>\n",
       "      <td>409.0</td>\n",
       "      <td>7.1</td>\n",
       "      <td>4.382027</td>\n",
       "    </tr>\n",
       "    <tr>\n",
       "      <th>4</th>\n",
       "      <td>34.0</td>\n",
       "      <td>3.583519</td>\n",
       "      <td>0.0</td>\n",
       "      <td>2.0</td>\n",
       "      <td>1.791759</td>\n",
       "      <td>72.187500</td>\n",
       "      <td>1.960095</td>\n",
       "      <td>3.401197</td>\n",
       "      <td>0.641854</td>\n",
       "      <td>2.261763</td>\n",
       "      <td>0.190620</td>\n",
       "      <td>5.587249</td>\n",
       "      <td>388.0</td>\n",
       "      <td>7.1</td>\n",
       "      <td>2.001480</td>\n",
       "    </tr>\n",
       "    <tr>\n",
       "      <th>5</th>\n",
       "      <td>53.0</td>\n",
       "      <td>3.737670</td>\n",
       "      <td>1.0</td>\n",
       "      <td>2.0</td>\n",
       "      <td>2.484907</td>\n",
       "      <td>80.833333</td>\n",
       "      <td>2.230014</td>\n",
       "      <td>3.433987</td>\n",
       "      <td>-0.223144</td>\n",
       "      <td>2.001480</td>\n",
       "      <td>4.605170</td>\n",
       "      <td>8.703341</td>\n",
       "      <td>665.0</td>\n",
       "      <td>5.9</td>\n",
       "      <td>4.294561</td>\n",
       "    </tr>\n",
       "  </tbody>\n",
       "</table>\n",
       "</div>"
      ],
      "text/plain": [
       "     age       bmi  ed_v  v_vv      sofa        pfr      pco2     pplat  \\\n",
       "id                                                                        \n",
       "1   46.0  3.526361   3.0   2.0  1.386294  48.750000  1.791759  3.367296   \n",
       "2   34.0  3.610918   6.0   1.0  1.386294  76.500000  2.307040  3.384846   \n",
       "3   66.0  3.258097   6.0   1.0  2.302585  61.578947  2.021548  3.332205   \n",
       "4   34.0  3.583519   0.0   2.0  1.791759  72.187500  1.960095  3.401197   \n",
       "5   53.0  3.737670   1.0   2.0  2.484907  80.833333  2.230014  3.433987   \n",
       "\n",
       "       lymph     nlrat       pct  ferritin    crp  fib      ddim  \n",
       "id                                                                \n",
       "1  -0.916291  3.178054 -0.223144  7.383368  306.0  7.2  2.332144  \n",
       "2  -0.693147  3.440418  1.742068  4.744932  217.0  4.1  4.382027  \n",
       "3  -1.203973  2.960105  1.838961  8.618666  409.0  7.1  4.382027  \n",
       "4   0.641854  2.261763  0.190620  5.587249  388.0  7.1  2.001480  \n",
       "5  -0.223144  2.001480  4.605170  8.703341  665.0  5.9  4.294561  "
      ]
     },
     "execution_count": 7,
     "metadata": {},
     "output_type": "execute_result"
    }
   ],
   "source": [
    "ecmodf_norm = ecmodf.copy()\n",
    "\n",
    "ecmodf_norm['ddim'] = np.log(ecmodf_norm['ddim']) #log conversion of skewed variables - days and sofa not included as would not expected to conform to a power law distribution\n",
    "ecmodf_norm['ferritin'] = np.log(ecmodf_norm['ferritin'])\n",
    "ecmodf_norm['pct'] = np.log(ecmodf_norm['pct'])\n",
    "ecmodf_norm['nlrat'] = np.log(ecmodf_norm['nlrat'])\n",
    "ecmodf_norm['lymph'] = np.log(ecmodf_norm['lymph'])\n",
    "ecmodf_norm['pplat'] = np.log(ecmodf_norm['pplat'])\n",
    "ecmodf_norm['pco2'] = np.log(ecmodf_norm['pco2'])\n",
    "ecmodf_norm['bmi'] = np.log(ecmodf_norm['bmi'])\n",
    "ecmodf_norm['sofa'] = np.log(ecmodf_norm['sofa'])\n",
    "\n",
    "ecmodf_norm.head()"
   ]
  },
  {
   "cell_type": "code",
   "execution_count": 8,
   "metadata": {},
   "outputs": [
    {
     "data": {
      "text/html": [
       "<div>\n",
       "<style scoped>\n",
       "    .dataframe tbody tr th:only-of-type {\n",
       "        vertical-align: middle;\n",
       "    }\n",
       "\n",
       "    .dataframe tbody tr th {\n",
       "        vertical-align: top;\n",
       "    }\n",
       "\n",
       "    .dataframe thead th {\n",
       "        text-align: right;\n",
       "    }\n",
       "</style>\n",
       "<table border=\"1\" class=\"dataframe\">\n",
       "  <thead>\n",
       "    <tr style=\"text-align: right;\">\n",
       "      <th></th>\n",
       "      <th>age</th>\n",
       "      <th>bmi</th>\n",
       "      <th>ed_v</th>\n",
       "      <th>v_vv</th>\n",
       "      <th>sofa</th>\n",
       "      <th>pfr</th>\n",
       "      <th>pco2</th>\n",
       "      <th>pplat</th>\n",
       "      <th>lymph</th>\n",
       "      <th>nlrat</th>\n",
       "      <th>pct</th>\n",
       "      <th>ferritin</th>\n",
       "      <th>crp</th>\n",
       "      <th>fib</th>\n",
       "      <th>ddim</th>\n",
       "    </tr>\n",
       "  </thead>\n",
       "  <tbody>\n",
       "    <tr>\n",
       "      <th>0</th>\n",
       "      <td>0.510</td>\n",
       "      <td>0.516065</td>\n",
       "      <td>0.282727</td>\n",
       "      <td>0.260</td>\n",
       "      <td>0.010000</td>\n",
       "      <td>0.164412</td>\n",
       "      <td>0.053777</td>\n",
       "      <td>0.648269</td>\n",
       "      <td>0.311030</td>\n",
       "      <td>0.669388</td>\n",
       "      <td>0.267444</td>\n",
       "      <td>0.503267</td>\n",
       "      <td>0.461908</td>\n",
       "      <td>0.485610</td>\n",
       "      <td>0.505096</td>\n",
       "    </tr>\n",
       "    <tr>\n",
       "      <th>1</th>\n",
       "      <td>0.210</td>\n",
       "      <td>0.614365</td>\n",
       "      <td>0.555455</td>\n",
       "      <td>0.135</td>\n",
       "      <td>0.010000</td>\n",
       "      <td>0.572500</td>\n",
       "      <td>0.288401</td>\n",
       "      <td>0.671757</td>\n",
       "      <td>0.407940</td>\n",
       "      <td>0.743612</td>\n",
       "      <td>0.569678</td>\n",
       "      <td>0.080622</td>\n",
       "      <td>0.326031</td>\n",
       "      <td>0.107561</td>\n",
       "      <td>1.010000</td>\n",
       "    </tr>\n",
       "    <tr>\n",
       "      <th>2</th>\n",
       "      <td>1.010</td>\n",
       "      <td>0.204203</td>\n",
       "      <td>0.555455</td>\n",
       "      <td>0.135</td>\n",
       "      <td>0.670964</td>\n",
       "      <td>0.353073</td>\n",
       "      <td>0.158407</td>\n",
       "      <td>0.601307</td>\n",
       "      <td>0.186091</td>\n",
       "      <td>0.607728</td>\n",
       "      <td>0.584579</td>\n",
       "      <td>0.701147</td>\n",
       "      <td>0.619160</td>\n",
       "      <td>0.473415</td>\n",
       "      <td>1.010000</td>\n",
       "    </tr>\n",
       "    <tr>\n",
       "      <th>3</th>\n",
       "      <td>0.210</td>\n",
       "      <td>0.582513</td>\n",
       "      <td>0.010000</td>\n",
       "      <td>0.260</td>\n",
       "      <td>0.302481</td>\n",
       "      <td>0.509081</td>\n",
       "      <td>0.130426</td>\n",
       "      <td>0.693640</td>\n",
       "      <td>0.987724</td>\n",
       "      <td>0.410162</td>\n",
       "      <td>0.331078</td>\n",
       "      <td>0.215550</td>\n",
       "      <td>0.587099</td>\n",
       "      <td>0.473415</td>\n",
       "      <td>0.423650</td>\n",
       "    </tr>\n",
       "    <tr>\n",
       "      <th>4</th>\n",
       "      <td>0.685</td>\n",
       "      <td>0.761716</td>\n",
       "      <td>0.100909</td>\n",
       "      <td>0.260</td>\n",
       "      <td>0.802481</td>\n",
       "      <td>0.636225</td>\n",
       "      <td>0.253328</td>\n",
       "      <td>0.737523</td>\n",
       "      <td>0.612060</td>\n",
       "      <td>0.336526</td>\n",
       "      <td>1.010000</td>\n",
       "      <td>0.714711</td>\n",
       "      <td>1.010000</td>\n",
       "      <td>0.327073</td>\n",
       "      <td>0.988456</td>\n",
       "    </tr>\n",
       "  </tbody>\n",
       "</table>\n",
       "</div>"
      ],
      "text/plain": [
       "     age       bmi      ed_v   v_vv      sofa       pfr      pco2     pplat  \\\n",
       "0  0.510  0.516065  0.282727  0.260  0.010000  0.164412  0.053777  0.648269   \n",
       "1  0.210  0.614365  0.555455  0.135  0.010000  0.572500  0.288401  0.671757   \n",
       "2  1.010  0.204203  0.555455  0.135  0.670964  0.353073  0.158407  0.601307   \n",
       "3  0.210  0.582513  0.010000  0.260  0.302481  0.509081  0.130426  0.693640   \n",
       "4  0.685  0.761716  0.100909  0.260  0.802481  0.636225  0.253328  0.737523   \n",
       "\n",
       "      lymph     nlrat       pct  ferritin       crp       fib      ddim  \n",
       "0  0.311030  0.669388  0.267444  0.503267  0.461908  0.485610  0.505096  \n",
       "1  0.407940  0.743612  0.569678  0.080622  0.326031  0.107561  1.010000  \n",
       "2  0.186091  0.607728  0.584579  0.701147  0.619160  0.473415  1.010000  \n",
       "3  0.987724  0.410162  0.331078  0.215550  0.587099  0.473415  0.423650  \n",
       "4  0.612060  0.336526  1.010000  0.714711  1.010000  0.327073  0.988456  "
      ]
     },
     "execution_count": 8,
     "metadata": {},
     "output_type": "execute_result"
    }
   ],
   "source": [
    "normalize = preprocessing.MinMaxScaler(feature_range=(0.01, 1.01))\n",
    "ecmodf_normalized = normalize.fit_transform(ecmodf_norm)\n",
    "ecmodf_normalized = pd.DataFrame(ecmodf_normalized)\n",
    "ecmodf_normalized.columns = ecmodf_norm.columns\n",
    "ecmodf_normalized.head()"
   ]
  },
  {
   "cell_type": "markdown",
   "metadata": {},
   "source": [
    "## general metrics"
   ]
  },
  {
   "cell_type": "code",
   "execution_count": 9,
   "metadata": {},
   "outputs": [
    {
     "data": {
      "image/png": "[encoded data removed]",
      "text/plain": [
       "<Figure size 432x288 with 1 Axes>"
      ]
     },
     "metadata": {},
     "output_type": "display_data"
    }
   ],
   "source": [
    "from sklearn.cluster import KMeans\n",
    "from sklearn.metrics import silhouette_score\n",
    "\n",
    "# A list holds the silhouette coefficients for each k\n",
    "silhouette_coefficients = []\n",
    "\n",
    "# Only works for 2 and above clusters as assesses inter-centroid distance\n",
    "for k in range(2, 10):\n",
    "    kmeans = KMeans(n_clusters=k, init='k-means++')\n",
    "    kmeans.fit(ecmodf_normalized)\n",
    "    score = silhouette_score(ecmodf_normalized, kmeans.labels_)\n",
    "    silhouette_coefficients.append(score)\n",
    "    \n",
    "plt.style.use(\"fivethirtyeight\")\n",
    "plt.plot(range(2, 10), silhouette_coefficients)\n",
    "plt.xticks(range(2, 10))\n",
    "plt.xlabel(\"Number of Clusters\")\n",
    "plt.ylabel(\"Silhouette Coefficient\")\n",
    "plt.show()"
   ]
  },
  {
   "cell_type": "code",
   "execution_count": 10,
   "metadata": {},
   "outputs": [
    {
     "name": "stdout",
     "output_type": "stream",
     "text": [
      "                           2         3         4         5         6         7\n",
      "method index                                                                  \n",
      "kmeans silhouette   0.163072  0.132756  0.122947  0.134453  0.125690  0.109465\n",
      "       calinski    11.740990  9.409337  8.250805  7.813567  7.333343  6.509858\n",
      "       davies       1.991777  1.923125  2.050367  1.900440  1.809908  1.861985\n",
      "       dunn         0.372135  0.370909  0.402505  0.402788  0.477424  0.374777\n"
     ]
    },
    {
     "name": "stderr",
     "output_type": "stream",
     "text": [
      "C:\\ProgramData\\Anaconda3\\lib\\site-packages\\sklearn\\utils\\deprecation.py:87: FutureWarning: Function calinski_harabaz_score is deprecated; Function 'calinski_harabaz_score' has been renamed to 'calinski_harabasz_score' and will be removed in version 0.23.\n",
      "  warnings.warn(msg, category=FutureWarning)\n",
      "C:\\ProgramData\\Anaconda3\\lib\\site-packages\\sklearn\\utils\\deprecation.py:87: FutureWarning: Function calinski_harabaz_score is deprecated; Function 'calinski_harabaz_score' has been renamed to 'calinski_harabasz_score' and will be removed in version 0.23.\n",
      "  warnings.warn(msg, category=FutureWarning)\n",
      "C:\\ProgramData\\Anaconda3\\lib\\site-packages\\sklearn\\utils\\deprecation.py:87: FutureWarning: Function calinski_harabaz_score is deprecated; Function 'calinski_harabaz_score' has been renamed to 'calinski_harabasz_score' and will be removed in version 0.23.\n",
      "  warnings.warn(msg, category=FutureWarning)\n",
      "C:\\ProgramData\\Anaconda3\\lib\\site-packages\\sklearn\\utils\\deprecation.py:87: FutureWarning: Function calinski_harabaz_score is deprecated; Function 'calinski_harabaz_score' has been renamed to 'calinski_harabasz_score' and will be removed in version 0.23.\n",
      "  warnings.warn(msg, category=FutureWarning)\n",
      "C:\\ProgramData\\Anaconda3\\lib\\site-packages\\sklearn\\utils\\deprecation.py:87: FutureWarning: Function calinski_harabaz_score is deprecated; Function 'calinski_harabaz_score' has been renamed to 'calinski_harabasz_score' and will be removed in version 0.23.\n",
      "  warnings.warn(msg, category=FutureWarning)\n",
      "C:\\ProgramData\\Anaconda3\\lib\\site-packages\\sklearn\\utils\\deprecation.py:87: FutureWarning: Function calinski_harabaz_score is deprecated; Function 'calinski_harabaz_score' has been renamed to 'calinski_harabasz_score' and will be removed in version 0.23.\n",
      "  warnings.warn(msg, category=FutureWarning)\n"
     ]
    }
   ],
   "source": [
    "from validclust.validclust import ValidClust #rapid assessment of optimal k using multiple tests\n",
    "\n",
    "data_temp = ecmodf_normalized.to_numpy()\n",
    "vclust = ValidClust(k=list(range(2, 8)), methods=['kmeans'])\n",
    "\n",
    "cvi_vals = vclust.fit_predict(data_temp)\n",
    "print(cvi_vals)"
   ]
  },
  {
   "cell_type": "code",
   "execution_count": 11,
   "metadata": {},
   "outputs": [
    {
     "data": {
      "image/png": "[encoded data removed]",
      "text/plain": [
       "<Figure size 432x288 with 1 Axes>"
      ]
     },
     "metadata": {},
     "output_type": "display_data"
    }
   ],
   "source": [
    "vclust.plot() # darker cells indicate higher quality clustering"
   ]
  },
  {
   "cell_type": "markdown",
   "metadata": {},
   "source": [
    "## cluster prediction strength "
   ]
  },
  {
   "cell_type": "code",
   "execution_count": 12,
   "metadata": {},
   "outputs": [],
   "source": [
    "## https://towardsdatascience.com/prediction-strength-a-simple-yet-relatively-unknown-way-to-evaluate-clustering-2e5eaf56643\n",
    "## Tibshirani R, Walther G. Cluster validation by prediction strength. J Comput Graph Stat 2005; 3: 511e28\n",
    "## Used in 10.1016/j.bja.2019.02.026"
   ]
  },
  {
   "cell_type": "code",
   "execution_count": 13,
   "metadata": {},
   "outputs": [],
   "source": [
    "import sys\n",
    "\n",
    "from sklearn.datasets import make_blobs\n",
    "from sklearn.model_selection import train_test_split\n",
    "from sklearn.cluster import KMeans\n",
    "\n",
    "from scipy.spatial import distance\n",
    "\n",
    "import matplotlib.pyplot as plt\n",
    "import seaborn as sns \n",
    "plt.style.use('seaborn')"
   ]
  },
  {
   "cell_type": "code",
   "execution_count": 14,
   "metadata": {},
   "outputs": [
    {
     "data": {
      "image/png": "[encoded data removed]",
      "text/plain": [
       "<Figure size 576x396 with 1 Axes>"
      ]
     },
     "metadata": {},
     "output_type": "display_data"
    }
   ],
   "source": [
    "# setting the range of k\n",
    "clusters = range(1, 10)\n",
    "\n",
    "# running the clustering \n",
    "wss_list = []\n",
    "\n",
    "for k in clusters:\n",
    "    model = KMeans(n_clusters=k)\n",
    "    model.fit(ecmodf_normalized)\n",
    "    wss_list.append(model.inertia_)\n",
    "\n",
    "# plotting\n",
    "_, ax = plt.subplots()\n",
    "ax.plot(clusters, wss_list, '-o', color='black')\n",
    "ax.set(title='Elbow plot', \n",
    "       xlabel='number of clusters', \n",
    "       ylabel='WSS');"
   ]
  },
  {
   "cell_type": "code",
   "execution_count": 15,
   "metadata": {},
   "outputs": [
    {
     "data": {
      "text/html": [
       "<div>\n",
       "<style scoped>\n",
       "    .dataframe tbody tr th:only-of-type {\n",
       "        vertical-align: middle;\n",
       "    }\n",
       "\n",
       "    .dataframe tbody tr th {\n",
       "        vertical-align: top;\n",
       "    }\n",
       "\n",
       "    .dataframe thead th {\n",
       "        text-align: right;\n",
       "    }\n",
       "</style>\n",
       "<table border=\"1\" class=\"dataframe\">\n",
       "  <thead>\n",
       "    <tr style=\"text-align: right;\">\n",
       "      <th></th>\n",
       "      <th>age</th>\n",
       "      <th>bmi</th>\n",
       "      <th>ed_v</th>\n",
       "      <th>v_vv</th>\n",
       "      <th>sofa</th>\n",
       "      <th>pfr</th>\n",
       "      <th>pco2</th>\n",
       "      <th>pplat</th>\n",
       "      <th>lymph</th>\n",
       "      <th>nlrat</th>\n",
       "      <th>pct</th>\n",
       "      <th>ferritin</th>\n",
       "      <th>crp</th>\n",
       "      <th>fib</th>\n",
       "      <th>ddim</th>\n",
       "    </tr>\n",
       "  </thead>\n",
       "  <tbody>\n",
       "    <tr>\n",
       "      <th>0</th>\n",
       "      <td>0.510</td>\n",
       "      <td>0.516065</td>\n",
       "      <td>0.282727</td>\n",
       "      <td>0.260</td>\n",
       "      <td>0.010000</td>\n",
       "      <td>0.164412</td>\n",
       "      <td>0.053777</td>\n",
       "      <td>0.648269</td>\n",
       "      <td>0.311030</td>\n",
       "      <td>0.669388</td>\n",
       "      <td>0.267444</td>\n",
       "      <td>0.503267</td>\n",
       "      <td>0.461908</td>\n",
       "      <td>0.485610</td>\n",
       "      <td>0.505096</td>\n",
       "    </tr>\n",
       "    <tr>\n",
       "      <th>1</th>\n",
       "      <td>0.210</td>\n",
       "      <td>0.614365</td>\n",
       "      <td>0.555455</td>\n",
       "      <td>0.135</td>\n",
       "      <td>0.010000</td>\n",
       "      <td>0.572500</td>\n",
       "      <td>0.288401</td>\n",
       "      <td>0.671757</td>\n",
       "      <td>0.407940</td>\n",
       "      <td>0.743612</td>\n",
       "      <td>0.569678</td>\n",
       "      <td>0.080622</td>\n",
       "      <td>0.326031</td>\n",
       "      <td>0.107561</td>\n",
       "      <td>1.010000</td>\n",
       "    </tr>\n",
       "    <tr>\n",
       "      <th>2</th>\n",
       "      <td>1.010</td>\n",
       "      <td>0.204203</td>\n",
       "      <td>0.555455</td>\n",
       "      <td>0.135</td>\n",
       "      <td>0.670964</td>\n",
       "      <td>0.353073</td>\n",
       "      <td>0.158407</td>\n",
       "      <td>0.601307</td>\n",
       "      <td>0.186091</td>\n",
       "      <td>0.607728</td>\n",
       "      <td>0.584579</td>\n",
       "      <td>0.701147</td>\n",
       "      <td>0.619160</td>\n",
       "      <td>0.473415</td>\n",
       "      <td>1.010000</td>\n",
       "    </tr>\n",
       "    <tr>\n",
       "      <th>3</th>\n",
       "      <td>0.210</td>\n",
       "      <td>0.582513</td>\n",
       "      <td>0.010000</td>\n",
       "      <td>0.260</td>\n",
       "      <td>0.302481</td>\n",
       "      <td>0.509081</td>\n",
       "      <td>0.130426</td>\n",
       "      <td>0.693640</td>\n",
       "      <td>0.987724</td>\n",
       "      <td>0.410162</td>\n",
       "      <td>0.331078</td>\n",
       "      <td>0.215550</td>\n",
       "      <td>0.587099</td>\n",
       "      <td>0.473415</td>\n",
       "      <td>0.423650</td>\n",
       "    </tr>\n",
       "    <tr>\n",
       "      <th>4</th>\n",
       "      <td>0.685</td>\n",
       "      <td>0.761716</td>\n",
       "      <td>0.100909</td>\n",
       "      <td>0.260</td>\n",
       "      <td>0.802481</td>\n",
       "      <td>0.636225</td>\n",
       "      <td>0.253328</td>\n",
       "      <td>0.737523</td>\n",
       "      <td>0.612060</td>\n",
       "      <td>0.336526</td>\n",
       "      <td>1.010000</td>\n",
       "      <td>0.714711</td>\n",
       "      <td>1.010000</td>\n",
       "      <td>0.327073</td>\n",
       "      <td>0.988456</td>\n",
       "    </tr>\n",
       "  </tbody>\n",
       "</table>\n",
       "</div>"
      ],
      "text/plain": [
       "     age       bmi      ed_v   v_vv      sofa       pfr      pco2     pplat  \\\n",
       "0  0.510  0.516065  0.282727  0.260  0.010000  0.164412  0.053777  0.648269   \n",
       "1  0.210  0.614365  0.555455  0.135  0.010000  0.572500  0.288401  0.671757   \n",
       "2  1.010  0.204203  0.555455  0.135  0.670964  0.353073  0.158407  0.601307   \n",
       "3  0.210  0.582513  0.010000  0.260  0.302481  0.509081  0.130426  0.693640   \n",
       "4  0.685  0.761716  0.100909  0.260  0.802481  0.636225  0.253328  0.737523   \n",
       "\n",
       "      lymph     nlrat       pct  ferritin       crp       fib      ddim  \n",
       "0  0.311030  0.669388  0.267444  0.503267  0.461908  0.485610  0.505096  \n",
       "1  0.407940  0.743612  0.569678  0.080622  0.326031  0.107561  1.010000  \n",
       "2  0.186091  0.607728  0.584579  0.701147  0.619160  0.473415  1.010000  \n",
       "3  0.987724  0.410162  0.331078  0.215550  0.587099  0.473415  0.423650  \n",
       "4  0.612060  0.336526  1.010000  0.714711  1.010000  0.327073  0.988456  "
      ]
     },
     "execution_count": 15,
     "metadata": {},
     "output_type": "execute_result"
    }
   ],
   "source": [
    "temp2 = ecmodf_normalized.copy()\n",
    "temp2.head()"
   ]
  },
  {
   "cell_type": "code",
   "execution_count": 16,
   "metadata": {},
   "outputs": [],
   "source": [
    "# train/test split\n",
    "data_temp2 = ecmodf_normalized.to_numpy()\n",
    "X_train, X_test = train_test_split(data_temp2, test_size=0.3, shuffle=True, random_state=42)"
   ]
  },
  {
   "cell_type": "code",
   "execution_count": 17,
   "metadata": {},
   "outputs": [],
   "source": [
    "## helper function to define closest centroid to given observation\n",
    "\n",
    "def get_closest_centroid(obs, centroids):\n",
    "    '''\n",
    "    Function for retrieving the closest centroid to the given observation \n",
    "    in terms of the Euclidean distance.\n",
    "    \n",
    "    Parameters\n",
    "    ----------\n",
    "    obs : array\n",
    "        An array containing the observation to be matched to the nearest centroid\n",
    "    centroids : array\n",
    "        An array containing the centroids\n",
    "    \n",
    "    Returns\n",
    "    -------\n",
    "    min_centroid : array\n",
    "        The centroid closes to the obs \n",
    "    '''\n",
    "    min_distance = sys.float_info.max\n",
    "    min_centroid = 0\n",
    "    \n",
    "    for c in centroids:\n",
    "        dist = distance.euclidean(obs, c)\n",
    "        if dist < min_distance:\n",
    "            min_distance = dist\n",
    "            min_centroid = c\n",
    "            \n",
    "    return min_centroid"
   ]
  },
  {
   "cell_type": "code",
   "execution_count": 18,
   "metadata": {},
   "outputs": [],
   "source": [
    "## main function that determines prediction strength of each cluster\n",
    "\n",
    "def get_prediction_strength(k, train_centroids, x_test, test_labels):\n",
    "    '''\n",
    "    Function for calculating the prediction strength of clustering\n",
    "    \n",
    "    Parameters\n",
    "    ----------\n",
    "    k : int\n",
    "        The number of clusters\n",
    "    train_centroids : array\n",
    "        Centroids from the clustering on the training set\n",
    "    x_test : array\n",
    "        Test set observations\n",
    "    test_labels : array\n",
    "        Labels predicted for the test set\n",
    "        \n",
    "    Returns\n",
    "    -------\n",
    "    prediction_strength : float\n",
    "        Calculated prediction strength\n",
    "    '''\n",
    "    n_test = len(x_test)\n",
    "    \n",
    "    # populate the co-membership matrix\n",
    "    D = np.zeros(shape=(n_test, n_test))\n",
    "    for x1, l1, c1 in zip(x_test, test_labels, list(range(n_test))):\n",
    "        for x2, l2, c2 in zip(x_test, test_labels, list(range(n_test))):\n",
    "            if tuple(x1) != tuple(x2):\n",
    "                if tuple(get_closest_centroid(x1, train_centroids)) == tuple(get_closest_centroid(x2, train_centroids)):\n",
    "                    D[c1,c2] = 1.0\n",
    "    \n",
    "    # calculate the prediction strengths for each cluster\n",
    "    ss = []\n",
    "    for j in range(k):\n",
    "        s = 0\n",
    "        examples_j = x_test[test_labels == j, :].tolist()\n",
    "        n_examples_j = len(examples_j)\n",
    "        for x1, l1, c1 in zip(x_test, test_labels, list(range(n_test))):\n",
    "            for x2, l2, c2 in zip(x_test, test_labels, list(range(n_test))):\n",
    "                if tuple(x1) != tuple(x2) and l1 == l2 and l1 == j:\n",
    "                    s += D[c1,c2]\n",
    "        ss.append(s / (n_examples_j * (n_examples_j - 0.9999))) \n",
    "\n",
    "    prediction_strength = min(ss)\n",
    "\n",
    "    return prediction_strength"
   ]
  },
  {
   "cell_type": "code",
   "execution_count": 19,
   "metadata": {},
   "outputs": [
    {
     "data": {
      "image/png": "[encoded data removed]",
      "text/plain": [
       "<Figure size 576x396 with 1 Axes>"
      ]
     },
     "metadata": {},
     "output_type": "display_data"
    }
   ],
   "source": [
    "# running the clustering \n",
    "strengths = []\n",
    "for k in clusters:\n",
    "    model_train = KMeans(n_clusters=k, random_state=42).fit(X_train)\n",
    "    model_test = KMeans(n_clusters=k, random_state=42).fit(X_test)\n",
    "    \n",
    "    pred_str = get_prediction_strength(k, model_train.cluster_centers_, X_test, model_test.labels_)\n",
    "    strengths.append(pred_str)\n",
    "\n",
    "# plotting\n",
    "_, ax = plt.subplots()\n",
    "ax.plot(clusters, strengths, '-o', color='black')\n",
    "ax.axhline(y=0.8, c='red');\n",
    "ax.set(title='Determining the optimal number of clusters', \n",
    "       xlabel='number of clusters', \n",
    "       ylabel='prediction strength');\n",
    "\n",
    "##Should select maximum cluster for which prediction strength is above certain theshold (i.e. 3 in this case)"
   ]
  },
  {
   "cell_type": "markdown",
   "metadata": {},
   "source": [
    "## cluster prediction - different implementation"
   ]
  },
  {
   "cell_type": "code",
   "execution_count": 20,
   "metadata": {},
   "outputs": [],
   "source": [
    "from reval.best_nclust_cv import FindBestClustCV #https://reval.readthedocs.io/en/latest/code_usage.html for finding best number of clusters\n",
    "\n",
    "##can't get working currently - similar method to above"
   ]
  },
  {
   "cell_type": "markdown",
   "metadata": {},
   "source": [
    "## elbow and gap statistic"
   ]
  },
  {
   "cell_type": "code",
   "execution_count": 21,
   "metadata": {},
   "outputs": [
    {
     "data": {
      "image/png": "[encoded data removed]",
      "text/plain": [
       "<Figure size 1152x576 with 1 Axes>"
      ]
     },
     "metadata": {},
     "output_type": "display_data"
    }
   ],
   "source": [
    "inertia = []\n",
    "K = range(1,10)\n",
    "for k in K:\n",
    "    kmeanModel = KMeans(n_clusters=k, init='k-means++')\n",
    "    kmeanModel.fit(ecmodf_normalized)\n",
    "    inertia.append(kmeanModel.inertia_)\n",
    "    \n",
    "plt.figure(figsize=(16,8))\n",
    "plt.plot(K, inertia, 'bx-')\n",
    "plt.xlabel('k')\n",
    "plt.ylabel('inertia')\n",
    "plt.title('The Elbow Method showing the optimal k')\n",
    "plt.show()"
   ]
  },
  {
   "cell_type": "code",
   "execution_count": 22,
   "metadata": {},
   "outputs": [
    {
     "data": {
      "text/plain": [
       "3"
      ]
     },
     "execution_count": 22,
     "metadata": {},
     "output_type": "execute_result"
    }
   ],
   "source": [
    "from kneed import KneeLocator\n",
    "\n",
    "kl = KneeLocator(\n",
    "    range(1, 10), inertia, curve=\"convex\", direction=\"decreasing\"\n",
    ")\n",
    "\n",
    "kl.elbow"
   ]
  },
  {
   "cell_type": "code",
   "execution_count": 32,
   "metadata": {},
   "outputs": [
    {
     "data": {
      "text/html": [
       "<p>OptimalK(n_jobs=1, parallel_backend=\"None\")</p>"
      ],
      "text/plain": [
       "OptimalK(n_jobs=1, parallel_backend=\"None\")"
      ]
     },
     "execution_count": 32,
     "metadata": {},
     "output_type": "execute_result"
    }
   ],
   "source": [
    "from gap_statistic import OptimalK\n",
    "\n",
    "optimalK = OptimalK(parallel_backend=None) #THIS CAN USE MULTICORES!!!!!! backend=rust / backend = multiprocessing\n",
    "optimalK"
   ]
  },
  {
   "cell_type": "code",
   "execution_count": 33,
   "metadata": {},
   "outputs": [
    {
     "name": "stdout",
     "output_type": "stream",
     "text": [
      "Optimal clusters:  7\n"
     ]
    }
   ],
   "source": [
    "n_clusters = optimalK(ecmodf_normalized, cluster_array=np.arange(1, 8))\n",
    "print('Optimal clusters: ', n_clusters)"
   ]
  },
  {
   "cell_type": "code",
   "execution_count": 34,
   "metadata": {},
   "outputs": [
    {
     "data": {
      "text/html": [
       "<div>\n",
       "<style scoped>\n",
       "    .dataframe tbody tr th:only-of-type {\n",
       "        vertical-align: middle;\n",
       "    }\n",
       "\n",
       "    .dataframe tbody tr th {\n",
       "        vertical-align: top;\n",
       "    }\n",
       "\n",
       "    .dataframe thead th {\n",
       "        text-align: right;\n",
       "    }\n",
       "</style>\n",
       "<table border=\"1\" class=\"dataframe\">\n",
       "  <thead>\n",
       "    <tr style=\"text-align: right;\">\n",
       "      <th></th>\n",
       "      <th>n_clusters</th>\n",
       "      <th>gap_value</th>\n",
       "      <th>gap*</th>\n",
       "      <th>ref_dispersion_std</th>\n",
       "      <th>sk</th>\n",
       "      <th>sk*</th>\n",
       "      <th>diff</th>\n",
       "      <th>diff*</th>\n",
       "    </tr>\n",
       "  </thead>\n",
       "  <tbody>\n",
       "    <tr>\n",
       "      <th>0</th>\n",
       "      <td>1.0</td>\n",
       "      <td>0.428165</td>\n",
       "      <td>24.632064</td>\n",
       "      <td>0.715194</td>\n",
       "      <td>0.011711</td>\n",
       "      <td>28.454644</td>\n",
       "      <td>-0.059102</td>\n",
       "      <td>28.670910</td>\n",
       "    </tr>\n",
       "    <tr>\n",
       "      <th>1</th>\n",
       "      <td>2.0</td>\n",
       "      <td>0.512088</td>\n",
       "      <td>25.830666</td>\n",
       "      <td>1.384745</td>\n",
       "      <td>0.024821</td>\n",
       "      <td>29.869512</td>\n",
       "      <td>0.075664</td>\n",
       "      <td>29.327154</td>\n",
       "    </tr>\n",
       "    <tr>\n",
       "      <th>2</th>\n",
       "      <td>3.0</td>\n",
       "      <td>0.489369</td>\n",
       "      <td>21.479266</td>\n",
       "      <td>2.546048</td>\n",
       "      <td>0.052945</td>\n",
       "      <td>24.975755</td>\n",
       "      <td>0.085152</td>\n",
       "      <td>24.965741</td>\n",
       "    </tr>\n",
       "    <tr>\n",
       "      <th>3</th>\n",
       "      <td>4.0</td>\n",
       "      <td>0.470955</td>\n",
       "      <td>20.679772</td>\n",
       "      <td>3.217554</td>\n",
       "      <td>0.066738</td>\n",
       "      <td>24.166247</td>\n",
       "      <td>-0.057586</td>\n",
       "      <td>24.012625</td>\n",
       "    </tr>\n",
       "    <tr>\n",
       "      <th>4</th>\n",
       "      <td>5.0</td>\n",
       "      <td>0.535030</td>\n",
       "      <td>21.529132</td>\n",
       "      <td>0.291865</td>\n",
       "      <td>0.006489</td>\n",
       "      <td>24.861984</td>\n",
       "      <td>0.025586</td>\n",
       "      <td>24.630869</td>\n",
       "    </tr>\n",
       "    <tr>\n",
       "      <th>5</th>\n",
       "      <td>6.0</td>\n",
       "      <td>0.534192</td>\n",
       "      <td>19.849950</td>\n",
       "      <td>1.031725</td>\n",
       "      <td>0.024748</td>\n",
       "      <td>22.951687</td>\n",
       "      <td>-0.006044</td>\n",
       "      <td>23.014600</td>\n",
       "    </tr>\n",
       "    <tr>\n",
       "      <th>6</th>\n",
       "      <td>7.0</td>\n",
       "      <td>0.562375</td>\n",
       "      <td>20.304199</td>\n",
       "      <td>0.910847</td>\n",
       "      <td>0.022140</td>\n",
       "      <td>23.468849</td>\n",
       "      <td>NaN</td>\n",
       "      <td>NaN</td>\n",
       "    </tr>\n",
       "  </tbody>\n",
       "</table>\n",
       "</div>"
      ],
      "text/plain": [
       "   n_clusters  gap_value       gap*  ref_dispersion_std        sk        sk*  \\\n",
       "0         1.0   0.428165  24.632064            0.715194  0.011711  28.454644   \n",
       "1         2.0   0.512088  25.830666            1.384745  0.024821  29.869512   \n",
       "2         3.0   0.489369  21.479266            2.546048  0.052945  24.975755   \n",
       "3         4.0   0.470955  20.679772            3.217554  0.066738  24.166247   \n",
       "4         5.0   0.535030  21.529132            0.291865  0.006489  24.861984   \n",
       "5         6.0   0.534192  19.849950            1.031725  0.024748  22.951687   \n",
       "6         7.0   0.562375  20.304199            0.910847  0.022140  23.468849   \n",
       "\n",
       "       diff      diff*  \n",
       "0 -0.059102  28.670910  \n",
       "1  0.075664  29.327154  \n",
       "2  0.085152  24.965741  \n",
       "3 -0.057586  24.012625  \n",
       "4  0.025586  24.630869  \n",
       "5 -0.006044  23.014600  \n",
       "6       NaN        NaN  "
      ]
     },
     "execution_count": 34,
     "metadata": {},
     "output_type": "execute_result"
    }
   ],
   "source": [
    "optimalK.gap_df"
   ]
  },
  {
   "cell_type": "code",
   "execution_count": 37,
   "metadata": {},
   "outputs": [
    {
     "data": {
      "image/png": "[encoded data removed]",
      "text/plain": [
       "<Figure size 576x396 with 1 Axes>"
      ]
     },
     "metadata": {},
     "output_type": "display_data"
    }
   ],
   "source": [
    "plt.plot(optimalK.gap_df.n_clusters, optimalK.gap_df.gap_value, linewidth=3)\n",
    "plt.scatter(optimalK.gap_df[optimalK.gap_df.n_clusters == n_clusters].n_clusters,\n",
    "            optimalK.gap_df[optimalK.gap_df.n_clusters == n_clusters].gap_value, s=250, c='r')\n",
    "plt.grid(True)\n",
    "plt.xlabel('Cluster Count')\n",
    "plt.ylabel('Gap Value')\n",
    "plt.title('Gap Values by Cluster Count')\n",
    "plt.show()"
   ]
  },
  {
   "cell_type": "code",
   "execution_count": null,
   "metadata": {},
   "outputs": [],
   "source": [
    "kmeans = KMeans(n_clusters=3, init='k-means++', n_init=1000, n_jobs=-1).fit(ecmodf_normalized)\n",
    "centroids = kmeans.cluster_centers_\n",
    "print(centroids)\n",
    "\n",
    "plt.scatter(ecmodf_normalized['ferritin'], ecmodf_normalized['ddim'], c= kmeans.labels_.astype(float), s=50, alpha=0.5)\n",
    "plt.scatter(centroids[:, 0], centroids[:, 1], c='red', s=50)\n",
    "plt.show()"
   ]
  },
  {
   "cell_type": "code",
   "execution_count": null,
   "metadata": {},
   "outputs": [],
   "source": [
    "pred = kmeans.predict(ecmodf_normalized)\n",
    "ecmodf_clustered = pd.DataFrame(ecmodf)\n",
    "ecmodf_clustered['cluster'] = pred"
   ]
  },
  {
   "cell_type": "code",
   "execution_count": null,
   "metadata": {},
   "outputs": [],
   "source": [
    "ecmodf_cluster['cluster'].value_counts() #counts numbers in each cluster"
   ]
  },
  {
   "cell_type": "code",
   "execution_count": null,
   "metadata": {},
   "outputs": [],
   "source": [
    "ecmodf_clustered"
   ]
  },
  {
   "cell_type": "code",
   "execution_count": null,
   "metadata": {},
   "outputs": [],
   "source": []
  }
 ],
 "metadata": {
  "kernelspec": {
   "display_name": "Python 3",
   "language": "python",
   "name": "python3"
  },
  "language_info": {
   "codemirror_mode": {
    "name": "ipython",
    "version": 3
   },
   "file_extension": ".py",
   "mimetype": "text/x-python",
   "name": "python",
   "nbconvert_exporter": "python",
   "pygments_lexer": "ipython3",
   "version": "3.7.6"
  }
 },
 "nbformat": 4,
 "nbformat_minor": 4
}
