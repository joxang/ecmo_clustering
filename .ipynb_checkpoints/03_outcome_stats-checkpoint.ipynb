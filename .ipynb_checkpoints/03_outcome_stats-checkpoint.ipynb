{
 "cells": [
  {
   "cell_type": "code",
   "execution_count": null,
   "metadata": {},
   "outputs": [],
   "source": [
    "import pandas as pd\n",
    "import numpy as np\n",
    "from scipy.stats import ttest_ind \n",
    "from scipy.stats import fisher_exact\n",
    "from scipy.stats import chi2_contingency\n",
    "from scipy.stats import mannwhitneyu\n",
    "from scipy.stats import kruskal\n",
    "from scipy.stats import f_oneway\n",
    "from scipy.stats import normaltest\n",
    "\n",
    "import matplotlib.pyplot as plt \n",
    "import seaborn as sns\n",
    "\n",
    "pd.set_option(\"display.max_columns\", 50)\n",
    "pd.set_option(\"display.max_rows\", 500)"
   ]
  },
  {
   "cell_type": "code",
   "execution_count": null,
   "metadata": {},
   "outputs": [],
   "source": [
    "ecmodf_analysis = pd.read_csv('data/ecmodf_clusters_outcomes.csv', index_col=0)\n",
    "ecmodf_analysis['sex'] = ecmodf_analysis['sex'].astype('bool')\n",
    "ecmodf_analysis['death'] = ecmodf_analysis['death'].astype('bool')\n",
    "ecmodf_analysis['rrt'] = ecmodf_analysis['rrt'].astype('bool')\n",
    "ecmodf_analysis['ptx'] = ecmodf_analysis['ptx'].astype('bool')\n",
    "ecmodf_analysis['pe'] = ecmodf_analysis['pe'].astype('bool')\n",
    "ecmodf_analysis['bronchinf'] = ecmodf_analysis['bronchinf'].astype('bool')\n",
    "ecmodf_analysis['ethnic'] = ecmodf_analysis['ethnic'].astype('object')\n",
    "del ecmodf_analysis['admit_date']\n",
    "del ecmodf_analysis['hosp']\n",
    "\n",
    "ecmodf_comorb = pd.read_csv('data/ecmo_comorb.csv', index_col=0)\n",
    "ecmodf_steroids = pd.read_csv('data/ecmo_steroids.csv', index_col=0)\n",
    "ecmodf_analysis = pd.concat([ecmodf_analysis, ecmodf_comorb], axis=1)\n",
    "ecmodf_analysis = pd.concat([ecmodf_analysis, ecmodf_steroids], axis=1)"
   ]
  },
  {
   "cell_type": "code",
   "execution_count": null,
   "metadata": {},
   "outputs": [],
   "source": [
    "ecmodf_analysis.head()"
   ]
  },
  {
   "cell_type": "code",
   "execution_count": null,
   "metadata": {},
   "outputs": [],
   "source": [
    "ecmodf_analysis['cluster'].value_counts() #counts numbers in each cluster"
   ]
  },
  {
   "cell_type": "markdown",
   "metadata": {},
   "source": [
    "## Survival comparison"
   ]
  },
  {
   "cell_type": "code",
   "execution_count": null,
   "metadata": {},
   "outputs": [],
   "source": [
    "##DO NOT DROP COLUMNS use for later subanalysis\n",
    "\n",
    "ecmodf_analysis = pd.concat([ecmodf_analysis, pd.get_dummies(ecmodf_analysis['ethnic'], prefix='ethnic')], axis=1)\n",
    "\n",
    "ecmodf_analysis = pd.concat([ecmodf_analysis, pd.get_dummies(ecmodf_analysis['cth'])], axis=1)\n",
    "\n",
    "ecmodf_analysis = pd.concat([ecmodf_analysis, pd.get_dummies(ecmodf_analysis['deathmod'])], axis=1)\n",
    "\n",
    "ecmodf_analysis.head()"
   ]
  },
  {
   "cell_type": "code",
   "execution_count": null,
   "metadata": {},
   "outputs": [],
   "source": [
    "cat = ['sex', 'death', 'bronchinf', 'rrt', 'pe', 'ptx', 'ethnic_0', 'ethnic_1', 'ethnic_2', 'cth_bleed', 'cth_stroke', 'death_bleed', 'death_mof', 'death_stroke', 'death_tamponade', 'death_withdraw', 'asthma', 'diabetes', 'hypertension', 'presteroid', 'ecmosteroid']\n",
    "con = ['age', 'bmi', 'ed_v', 'v_vv', 'sofa', 'pfr', 'pco2', 'pplat', 'lymph', 'nlrat', 'pct', 'ferritin', 'crp', 'fib', 'ddim', 'na', 'time', 'resp', 'ttsteroids'] \n",
    "\n",
    "pop1 = ecmodf_analysis[ecmodf_analysis.death == 0]\n",
    "pop0 = ecmodf_analysis[ecmodf_analysis.death == 1]\n"
   ]
  },
  {
   "cell_type": "code",
   "execution_count": null,
   "metadata": {},
   "outputs": [],
   "source": [
    "def iqr(series):\n",
    "    q75, q25 = np.percentile(series.dropna(), [75 ,25]) #include dropna because np.percentile doesn't play nice with NaN\n",
    "    return str(\"[\" + str(np.round(q25, decimals=1)) + \" - \" + str(np.round(q75, decimals=1)) + \"]\")"
   ]
  },
  {
   "cell_type": "code",
   "execution_count": null,
   "metadata": {},
   "outputs": [],
   "source": [
    "cohort_summ = pd.DataFrame(index=['pop', 'alive', 'dead', 'p'], columns = cat + con)"
   ]
  },
  {
   "cell_type": "code",
   "execution_count": null,
   "metadata": {},
   "outputs": [],
   "source": [
    "for column in cohort_summ.columns:\n",
    "    for row in cohort_summ.index:\n",
    "        \n",
    "        if row == 'pop':\n",
    "            if column in cat:\n",
    "                count = ecmodf_analysis[column].sum()\n",
    "                percent = np.round((count / (len(ecmodf_analysis[column]) - ecmodf_analysis[column].isnull().sum())) * 100, decimals=1)\n",
    "                cohort_summ.loc[row, column] = str(count) + \" (\" + str(percent) + \"%)\"\n",
    "            if column in con:\n",
    "                median = np.round(ecmodf_analysis[column].median(axis=0), decimals=1)\n",
    "                cohort_summ.loc[row, column] = str(median) + ' ' + iqr(ecmodf_analysis[column])\n",
    "                \n",
    "        elif row == 'alive':\n",
    "            if column in cat:\n",
    "                count = pop1[column].sum()\n",
    "                percent = np.round((count / (len(pop1[column]) - pop1[column].isnull().sum())) * 100, decimals=1)\n",
    "                cohort_summ.loc[row, column] = str(count) + \" (\" + str(percent) + \"%)\"\n",
    "            if column in con:\n",
    "                median = np.round(pop1[column].median(axis=0), decimals=1)\n",
    "                cohort_summ.loc[row, column] = str(median) + ' ' + iqr(pop1[column])\n",
    "                \n",
    "        elif row == 'dead':\n",
    "            if column in cat:\n",
    "                count = pop0[column].sum()\n",
    "                percent = np.round((count / (len(pop0[column]) - pop0[column].isnull().sum())) * 100, decimals=1)\n",
    "                cohort_summ.loc[row, column] = str(count) + \" (\" + str(percent) + \"%)\"\n",
    "            if column in con:\n",
    "                median = np.round(pop0[column].median(axis=0), decimals=1)\n",
    "                cohort_summ.loc[row, column] = str(median) + ' ' + iqr(pop0[column])  \n",
    "                "
   ]
  },
  {
   "cell_type": "code",
   "execution_count": null,
   "metadata": {},
   "outputs": [],
   "source": [
    "for i in con:\n",
    "    sval, pval = mannwhitneyu(pop1[i].dropna(), pop0[i].dropna(), alternative = 'two-sided')\n",
    "    cohort_summ.loc['p', i] = np.round(pval, decimals = 6)\n",
    "    \n",
    "for i in cat:\n",
    "    try:\n",
    "        OR, p = fisher_exact(pd.crosstab(ecmodf_analysis['death'], ecmodf_analysis[i].dropna()))\n",
    "        cohort_summ.loc['p', i] = np.round(p, decimals = 6)\n",
    "    except:\n",
    "        stat, p, dof, expected = chi2_contingency(pd.crosstab(ecmodf_analysis['death'], ecmodf_analysis[i].dropna()))\n",
    "        cohort_summ.loc['p', i] = np.round(p, decimals = 6)"
   ]
  },
  {
   "cell_type": "code",
   "execution_count": null,
   "metadata": {},
   "outputs": [],
   "source": [
    "cohort_summ.transpose()"
   ]
  },
  {
   "cell_type": "markdown",
   "metadata": {},
   "source": [
    "## Clusters initial analysis"
   ]
  },
  {
   "cell_type": "code",
   "execution_count": null,
   "metadata": {},
   "outputs": [],
   "source": [
    "deathmod = pd.crosstab(ecmodf_analysis['cluster'], ecmodf_analysis['deathmod'])\n",
    "deathmod"
   ]
  },
  {
   "cell_type": "code",
   "execution_count": null,
   "metadata": {},
   "outputs": [],
   "source": [
    "for i in deathmod.columns:\n",
    "    stat, pval, dof, expected = chi2_contingency(pd.crosstab(ecmodf_analysis['cluster'], ecmodf_analysis[i]))\n",
    "    if pval < 0.05:\n",
    "        print(\"There is a significant difference in \" + str(i) + \" between clusters - pval = \" + str(pval))\n",
    "    else:\n",
    "        print(\"There is NOT a significant difference in \" + str(i) + \" between clusters - pval = \" + str(pval))"
   ]
  },
  {
   "cell_type": "code",
   "execution_count": null,
   "metadata": {},
   "outputs": [],
   "source": [
    "ctfinds = pd.crosstab(ecmodf_analysis['cluster'], ecmodf_analysis['cth'])\n",
    "ctfinds"
   ]
  },
  {
   "cell_type": "code",
   "execution_count": null,
   "metadata": {},
   "outputs": [],
   "source": [
    "for i in ctfinds.columns:\n",
    "    stat, pval, dof, expected = chi2_contingency(pd.crosstab(ecmodf_analysis['cluster'], ecmodf_analysis[i]))\n",
    "    if pval < 0.05:\n",
    "        print(\"There is a significant difference in \" + str(i) + \" between clusters - pval = \" + str(pval))\n",
    "    else:\n",
    "        print(\"There is NOT a significant difference in \" + str(i) + \" between clusters - pval = \" + str(pval))"
   ]
  },
  {
   "cell_type": "code",
   "execution_count": null,
   "metadata": {},
   "outputs": [],
   "source": [
    "firstbronch = pd.crosstab(ecmodf_analysis['cluster'], ecmodf_analysis['bronch0'])\n",
    "firstbronch"
   ]
  },
  {
   "cell_type": "code",
   "execution_count": null,
   "metadata": {},
   "outputs": [],
   "source": [
    "ecmodf_analysis = pd.concat([ecmodf_analysis, pd.get_dummies(ecmodf_analysis['bronch0'])], axis=1)\n",
    "ecmodf_analysis.drop('bronch0', inplace=True, axis=1)"
   ]
  },
  {
   "cell_type": "code",
   "execution_count": null,
   "metadata": {},
   "outputs": [],
   "source": [
    "for i in firstbronch.columns:\n",
    "    stat, pval, dof, expected = chi2_contingency(pd.crosstab(ecmodf_analysis['cluster'], ecmodf_analysis[i]))\n",
    "    if pval < 0.05:\n",
    "        print(\"There is a significant difference in \" + str(i) + \" between clusters - pval = \" + str(pval))\n",
    "    else:\n",
    "        print(\"There is NOT a significant difference in \" + str(i) + \" between clusters - pval = \" + str(pval))"
   ]
  },
  {
   "cell_type": "code",
   "execution_count": null,
   "metadata": {},
   "outputs": [],
   "source": [
    "pathbronch = pd.crosstab(ecmodf_analysis['cluster'], ecmodf_analysis['bronchinf'])\n",
    "stat, pval, dof, expected = chi2_contingency(pathbronch)\n",
    "print(\"p = \" + str(pval))\n",
    "pathbronch"
   ]
  },
  {
   "cell_type": "markdown",
   "metadata": {},
   "source": [
    "## Generate three-way results table"
   ]
  },
  {
   "cell_type": "code",
   "execution_count": null,
   "metadata": {},
   "outputs": [],
   "source": [
    "ecmodf_analysis.head()"
   ]
  },
  {
   "cell_type": "code",
   "execution_count": null,
   "metadata": {},
   "outputs": [],
   "source": [
    "# Split into separate dataframes for each cluster\n",
    "ecmoclus0 = ecmodf_analysis[ecmodf_analysis.cluster == 0] #split off into separate cluster dfs\n",
    "ecmoclus1 = ecmodf_analysis[ecmodf_analysis.cluster == 1]\n",
    "ecmoclus2 = ecmodf_analysis[ecmodf_analysis.cluster == 2]"
   ]
  },
  {
   "cell_type": "code",
   "execution_count": null,
   "metadata": {},
   "outputs": [],
   "source": [
    "con = ['age', 'bmi', 'ed_v', 'v_vv', 'sofa', 'pfr', 'pco2', 'pplat', 'lymph', 'nlrat', 'pct', 'ferritin', 'crp', 'fib', 'ddim', 'time', 'na', 'resp', 'ttsteroids']\n",
    "\n",
    "cat = ['death', 'sex', 'rrt', 'pe', 'ptx', 'diabetes', 'asthma', 'hypertension', 'death_bleed', 'ethnic_0', 'ethnic_1', 'ethnic_2',  'death_ich', 'death_mof', 'death_stroke', 'death_tamponade', 'death_withdraw', 'cth_bleed', 'cth_stroke', 'bronchinf','presteroid', 'ecmosteroid']\n"
   ]
  },
  {
   "cell_type": "code",
   "execution_count": null,
   "metadata": {},
   "outputs": [],
   "source": [
    "def iqr(series):\n",
    "    q75, q25 = np.percentile(series.dropna(), [75 ,25]) #include dropna because np.percentile doesn't play nice with NaN\n",
    "    return str(\"[\" + str(np.round(q25, decimals=1)) + \" - \" + str(np.round(q75, decimals=1)) + \"]\")\n",
    "\n",
    "iqr(ecmodf_analysis['age']) #test"
   ]
  },
  {
   "cell_type": "code",
   "execution_count": null,
   "metadata": {},
   "outputs": [],
   "source": [
    "ecmodf_final = pd.DataFrame(index=['all', 'C0', 'C1', 'C2', 'p'], columns = con + cat)\n",
    "ecmodf_final"
   ]
  },
  {
   "cell_type": "code",
   "execution_count": null,
   "metadata": {},
   "outputs": [],
   "source": [
    "for column in ecmodf_final.columns:\n",
    "    for row in ecmodf_final.index:\n",
    "        \n",
    "        if row == 'all':\n",
    "            if column in cat:\n",
    "                count = ecmodf_analysis[column].sum()\n",
    "                percent = np.round((count / (len(ecmodf_analysis[column]) - ecmodf_analysis[column].isnull().sum())) * 100, decimals=1)\n",
    "                ecmodf_final.loc[row, column] = str(count) + \" (\" + str(percent) + \"%)\"\n",
    "            if column in con:\n",
    "                median = np.round(ecmodf_analysis[column].median(axis=0), decimals=1)\n",
    "                ecmodf_final.loc[row, column] = str(median) + ' ' + iqr(ecmodf_analysis[column])\n",
    "                \n",
    "        elif row == 'C0':\n",
    "            if column in cat:\n",
    "                count = ecmoclus0[column].sum()\n",
    "                percent = np.round((count / (len(ecmoclus0[column]) - ecmoclus0[column].isnull().sum())) * 100, decimals=1)\n",
    "                ecmodf_final.loc[row, column] = str(count) + \" (\" + str(percent) + \"%)\"\n",
    "            if column in con:\n",
    "                median = np.round(ecmoclus0[column].median(axis=0), decimals=1)\n",
    "                ecmodf_final.loc[row, column] = str(median) + ' ' + iqr(ecmoclus0[column])\n",
    "                \n",
    "        elif row == 'C1':\n",
    "            if column in cat:\n",
    "                count = ecmoclus1[column].sum()\n",
    "                percent = np.round((count / (len(ecmoclus1[column]) - ecmoclus1[column].isnull().sum())) * 100, decimals=1)\n",
    "                ecmodf_final.loc[row, column] = str(count) + \" (\" + str(percent) + \"%)\"\n",
    "            if column in con:\n",
    "                median = np.round(ecmoclus1[column].median(axis=0), decimals=1)\n",
    "                ecmodf_final.loc[row, column] = str(median) + ' ' + iqr(ecmoclus1[column])    \n",
    "    \n",
    "        elif row == 'C2':\n",
    "            if column in cat:\n",
    "                count = ecmoclus2[column].sum()\n",
    "                percent = np.round((count / (len(ecmoclus2[column]) - ecmoclus2[column].isnull().sum())) * 100, decimals=1)\n",
    "                ecmodf_final.loc[row, column] = str(count) + \" (\" + str(percent) + \"%)\"\n",
    "            if column in con:\n",
    "                median = np.round(ecmoclus2[column].median(axis=0), decimals=1)\n",
    "                ecmodf_final.loc[row, column] = str(median) + ' ' + iqr(ecmoclus2[column])    \n"
   ]
  },
  {
   "cell_type": "code",
   "execution_count": null,
   "metadata": {},
   "outputs": [],
   "source": [
    "for i in con:\n",
    "    stat, pval = kruskal(ecmoclus0[i].dropna(), ecmoclus1[i].dropna(), ecmoclus2[i].dropna())\n",
    "    ecmodf_final.loc['p', i] = np.round(pval, decimals = 6)\n",
    "\n",
    "for i in cat:\n",
    "    try:\n",
    "        OR, p = fisher_exact(pd.crosstab(ecmodf_analysis['cluster'], ecmodf_analysis[i].dropna()))\n",
    "        ecmodf_final.loc['p', i] = np.round(p, decimals = 6)\n",
    "    except:\n",
    "        stat, p, dof, expected = chi2_contingency(pd.crosstab(ecmodf_analysis['cluster'], ecmodf_analysis[i].dropna()))\n",
    "        ecmodf_final.loc['p', i] = np.round(p, decimals = 6)"
   ]
  },
  {
   "cell_type": "code",
   "execution_count": null,
   "metadata": {},
   "outputs": [],
   "source": [
    "ecmodf_final.transpose()"
   ]
  },
  {
   "cell_type": "markdown",
   "metadata": {},
   "source": [
    "## Clus0 vs Clus2"
   ]
  },
  {
   "cell_type": "code",
   "execution_count": null,
   "metadata": {},
   "outputs": [],
   "source": [
    "ecmodf_0v2 = pd.DataFrame(index=['C0', 'C2', 'p'], columns = con + cat)\n",
    "\n",
    "for column in ecmodf_0v2.columns:\n",
    "    for row in ecmodf_0v2.index:\n",
    "        \n",
    "        if row == 'C0':\n",
    "            if column in cat:\n",
    "                count = ecmoclus0[column].sum()\n",
    "                percent = np.round((count / (len(ecmoclus0[column]) - ecmoclus0[column].isnull().sum())) * 100, decimals=1)\n",
    "                ecmodf_0v2.loc[row, column] = str(count) + \" (\" + str(percent) + \"%)\"\n",
    "            if column in con:\n",
    "                median = np.round(ecmoclus0[column].median(axis=0), decimals=1)\n",
    "                ecmodf_0v2.loc[row, column] = str(median) + ' ' + iqr(ecmoclus0[column])\n",
    " \n",
    "        elif row == 'C2':\n",
    "            if column in cat:\n",
    "                count = ecmoclus2[column].sum()\n",
    "                percent = np.round((count / (len(ecmoclus2[column]) - ecmoclus2[column].isnull().sum())) * 100, decimals=1)\n",
    "                ecmodf_0v2.loc[row, column] = str(count) + \" (\" + str(percent) + \"%)\"\n",
    "            if column in con:\n",
    "                median = np.round(ecmoclus2[column].median(axis=0), decimals=1)\n",
    "                ecmodf_0v2.loc[row, column] = str(median) + ' ' + iqr(ecmoclus2[column])    \n",
    "                \n",
    "for i in con:\n",
    "    sval, pval = mannwhitneyu(ecmoclus0[i].dropna(), ecmoclus2[i].dropna(), alternative = 'two-sided')\n",
    "    ecmodf_0v2.loc['p', i] = np.round(pval, decimals = 6)\n",
    "\n",
    "tempanalysis = ecmoclus0.append(ecmoclus2)\n",
    "    \n",
    "for i in cat:\n",
    "#    try:\n",
    "    OR, p = fisher_exact(pd.crosstab(tempanalysis['cluster'], tempanalysis[i].dropna()))\n",
    "    ecmodf_0v2.loc['p', i] = np.round(p, decimals = 6)\n",
    "#    except:\n",
    "#        stat, p, dof, expected = chi2_contingency(pd.crosstab(tempanalysis['cluster'], tempanalysis[i].dropna()))\n",
    "#        ecmodf_0v2.loc['p', i] = np.round(p, decimals = 6)"
   ]
  },
  {
   "cell_type": "code",
   "execution_count": null,
   "metadata": {},
   "outputs": [],
   "source": [
    "ecmodf_0v2.transpose()"
   ]
  },
  {
   "cell_type": "markdown",
   "metadata": {},
   "source": [
    "## Positive bronch results"
   ]
  },
  {
   "cell_type": "code",
   "execution_count": null,
   "metadata": {},
   "outputs": [],
   "source": [
    "ecmobronch0 = ecmodf_analysis[ecmodf_analysis.bronchinf == False] #split off into separate cluster dfs\n",
    "ecmobronch1 = ecmodf_analysis[ecmodf_analysis.bronchinf == True]"
   ]
  },
  {
   "cell_type": "code",
   "execution_count": null,
   "metadata": {},
   "outputs": [],
   "source": [
    "cat2 = ['death', 'sex', 'rrt', 'pe', 'ptx', 'death_bleed', 'death_ich', 'death_mof', 'death_stroke', 'death_tamponade', 'death_withdraw']\n",
    "\n",
    "ecmodf_bronch = pd.DataFrame(index=['bronch0', 'bronch1', 'p'], columns = con + cat2)\n",
    "ecmodf_bronch"
   ]
  },
  {
   "cell_type": "code",
   "execution_count": null,
   "metadata": {},
   "outputs": [],
   "source": [
    "for column in ecmodf_bronch.columns:\n",
    "    for row in ecmodf_bronch.index:\n",
    "        \n",
    "        if row == 'bronch0':\n",
    "            if column in cat:\n",
    "                count = ecmobronch0[column].sum()\n",
    "                percent = np.round((count / (len(ecmobronch0[column]) - ecmobronch0[column].isnull().sum())) * 100, decimals=1)\n",
    "                ecmodf_bronch.loc[row, column] = str(count) + \" (\" + str(percent) + \"%)\"\n",
    "            if column in con:\n",
    "                median = np.round(ecmobronch0[column].median(axis=0), decimals=1)\n",
    "                ecmodf_bronch.loc[row, column] = str(median) + ' ' + iqr(ecmobronch0[column])\n",
    " \n",
    "        elif row == 'bronch1':\n",
    "            if column in cat:\n",
    "                count = ecmobronch1[column].sum()\n",
    "                percent = np.round((count / (len(ecmobronch1[column]) - ecmobronch1[column].isnull().sum())) * 100, decimals=1)\n",
    "                ecmodf_bronch.loc[row, column] = str(count) + \" (\" + str(percent) + \"%)\"\n",
    "            if column in con:\n",
    "                median = np.round(ecmoclus2[column].median(axis=0), decimals=1)\n",
    "                ecmodf_bronch.loc[row, column] = str(median) + ' ' + iqr(ecmobronch1[column])    \n",
    "                \n",
    "for i in con:\n",
    "    sval, pval = mannwhitneyu(ecmobronch0[i].dropna(), ecmobronch1[i].dropna(), alternative = 'two-sided')\n",
    "    ecmodf_bronch.loc['p', i] = np.round(pval, decimals = 6)\n",
    "    \n",
    "for i in cat2:\n",
    "    try:\n",
    "        OR, p = fisher_exact(pd.crosstab(ecmodf_analysis['bronchinf'], ecmodf_analysis[i].dropna()))\n",
    "        ecmodf_bronch.loc['p', i] = np.round(p, decimals = 6)\n",
    "    except:\n",
    "        stat, p, dof, expected = chi2_contingency(pd.crosstab(ecmodf_analysis['bronchinf'], ecmodf_analysis[i].dropna()))\n",
    "        ecmodf_bronch.loc['p', i] = np.round(p, decimals = 6)\n",
    "        "
   ]
  },
  {
   "cell_type": "code",
   "execution_count": null,
   "metadata": {
    "scrolled": false
   },
   "outputs": [],
   "source": [
    "ecmodf_bronch.transpose()"
   ]
  },
  {
   "cell_type": "markdown",
   "metadata": {},
   "source": [
    "## Survival analysis"
   ]
  },
  {
   "cell_type": "code",
   "execution_count": null,
   "metadata": {},
   "outputs": [],
   "source": [
    "ecmodf_survival = pd.read_csv('data/ecmo_time.csv', index_col=0)\n",
    "ecmodf_survival.head()"
   ]
  },
  {
   "cell_type": "code",
   "execution_count": null,
   "metadata": {},
   "outputs": [],
   "source": [
    "from lifelines import KaplanMeierFitter\n",
    "\n",
    "alldeath = ecmodf_survival[['death', 'time2']].copy()\n",
    "\n",
    "kmf = KaplanMeierFitter()\n",
    "kmf.fit(alldeath['time2'], alldeath['death'], label = \"death\")\n",
    "kmf.plot(ci_show = True)"
   ]
  },
  {
   "cell_type": "code",
   "execution_count": null,
   "metadata": {},
   "outputs": [],
   "source": [
    "timeclus0 = ecmodf_survival[ecmodf_survival.cluster == 0] #split off into separate cluster dfs\n",
    "timeclus1 = ecmodf_survival[ecmodf_survival.cluster == 1]\n",
    "timeclus2 = ecmodf_survival[ecmodf_survival.cluster == 2]"
   ]
  },
  {
   "cell_type": "code",
   "execution_count": null,
   "metadata": {},
   "outputs": [],
   "source": [
    "t0 = timeclus0['time2']\n",
    "i0 = timeclus0['death']\n",
    "\n",
    "t1 = timeclus1['time2']\n",
    "i1 = timeclus1['death']\n",
    "\n",
    "t2 = timeclus2['time2']\n",
    "i2 = timeclus2['death']"
   ]
  },
  {
   "cell_type": "code",
   "execution_count": null,
   "metadata": {},
   "outputs": [],
   "source": [
    "sns.set(style='white')\n",
    "\n",
    "plt.figure(figsize=(10,6))\n",
    "\n",
    "kmf.fit(t1, i1, label='Phenotype 1 (n=24)')\n",
    "a1 = kmf.plot(ci_show = False)\n",
    "\n",
    "kmf.fit(t0, i0, label='Phenotype 2 (n=20)')\n",
    "a1 = kmf.plot(ci_show = False)\n",
    "\n",
    "kmf.fit(t2, i2, label='Phenotype 3 (n=12)')\n",
    "a1 = kmf.plot(ci_show = False)\n",
    "\n",
    "a1.set_ylabel('Survival Probability (%)', fontsize=14, labelpad=12)\n",
    "a1.set_xlabel('Days after ECMO initiation', fontsize=14, labelpad=12)\n"
   ]
  },
  {
   "cell_type": "code",
   "execution_count": null,
   "metadata": {
    "scrolled": true
   },
   "outputs": [],
   "source": [
    "from lifelines import CoxPHFitter\n",
    "\n",
    "ecmodf_cox = ecmodf_survival.drop(columns = ['hosp', 'time2'])\n",
    "\n",
    "ecmodf_cox['SOFA score'] = ecmodf_analysis['sofa']\n",
    "\n",
    "#ecmodf_cox['Ventilation days'] = ecmodf_analysis['v_vv']\n",
    "\n",
    "#ecmodf_cox['Diabetes'] = ecmodf_analysis['diabetes']\n",
    "#ecmodf_cox['Hypertension'] = ecmodf_analysis['hypertension']\n",
    "#ecmodf_cox['Asthma'] = ecmodf_analysis['asthma']\n",
    "\n",
    "ecmodf_cox['D-dimer (per doubling)'] = ecmodf_analysis['ddim']\n",
    "ecmodf_cox['D-dimer (per doubling)'] = np.log2(ecmodf_cox['D-dimer (per doubling)'])\n",
    "\n",
    "#ecmodf_cox['Ferritin (per doubling)'] = ecmodf_analysis['ferritin']\n",
    "#ecmodf_cox['Ferritin (per doubling)'] = np.log2(ecmodf_cox['Ferritin (per doubling)'])\n",
    "\n",
    "#ecmodf_cox['N:L ratio'] = ecmodf_analysis['nlrat']\n",
    "\n",
    "#ecmodf_cox['HI group'] = ecmodf_cox['hiferritin']\n",
    "ecmodf_cox.drop(['hiferritin'], inplace=True, axis=1)\n",
    "\n",
    "ecmodf_cox['Body mass index'] = ecmodf_analysis['bmi']\n",
    "ecmodf_cox['Age'] = ecmodf_analysis['age']\n",
    "ecmodf_cox['RESP score'] = ecmodf_analysis['resp']\n",
    "\n",
    "#ecmodf_cox['Procalcitonin (per doubling)'] = ecmodf_analysis['pct']\n",
    "#ecmodf_cox['Procalcitonin (per doubling)'] = np.log2(ecmodf_cox['Procalcitonin (per doubling)'])\n",
    "\n",
    "ecmodf_cox['sex'] = ecmodf_analysis['sex'] #1 = female\n",
    "ecmodf_cox = pd.concat([ecmodf_cox, pd.get_dummies(ecmodf_cox['sex'], drop_first = False, prefix = 'female')], axis=1)\n",
    "ecmodf_cox['Male sex'] = ecmodf_cox['female_False']\n",
    "ecmodf_cox.drop(['sex', 'female_True', 'female_False'], inplace=True, axis=1)\n",
    "\n",
    "ecmodf_cox['ethnic'] = ecmodf_analysis['ethnic'] #0 = white, #1 = black, #2 = other\n",
    "ecmodf_cox = pd.concat([ecmodf_cox, pd.get_dummies(ecmodf_cox['ethnic'], prefix = 'ethnic')], axis=1)\n",
    "ecmodf_cox['Black ethnicity (vs white)'] = ecmodf_cox['ethnic_1']\n",
    "ecmodf_cox['Asian ethnicity (vs white)'] = ecmodf_cox['ethnic_2']\n",
    "#ecmodf_cox['White ethnicity (vs other)'] = ecmodf_cox['ethnic_0']\n",
    "ecmodf_cox.drop(['ethnic', 'ethnic_0', 'ethnic_2', 'ethnic_1'], inplace=True, axis=1)\n",
    "\n",
    "#ecmodf_cox = pd.concat([ecmodf_cox, pd.get_dummies(ecmodf_cox['cluster'], prefix = 'cluster')], axis=1)\n",
    "#ecmodf_cox.drop(['cluster', 'cluster_0', 'cluster_2'], inplace=True, axis=1)\n",
    "\n",
    "ecmodf_cox.drop(['cluster'], inplace=True, axis=1)\n",
    "\n",
    "ecmodf_cox\n"
   ]
  },
  {
   "cell_type": "code",
   "execution_count": null,
   "metadata": {},
   "outputs": [],
   "source": [
    "## Variance inflation factor to detect colinearity\n",
    "## Linear relationships that exist between independent variables in model will cause coefficients (and HR) to be unstable\n",
    "## By regression each variable against all other independent variables in table, can generate tolerance (1-R^2) and VIF (reciprocal of tolerance)\n",
    "## VIF high = high multicollinearity \n",
    "\n",
    "from statsmodels.stats.outliers_influence import variance_inflation_factor\n",
    "from statsmodels.tools.tools import add_constant\n",
    "\n",
    "X = add_constant(ecmodf_cox) #requires constants column as reference(?)\n",
    "X.drop(['death', 'time'], inplace=True, axis=1)\n"
   ]
  },
  {
   "cell_type": "code",
   "execution_count": null,
   "metadata": {},
   "outputs": [],
   "source": [
    "## No formal criteria, but values > 4 for VIF in any given variable suggest action is required\n",
    "## VIF markedly different from other variables suggest action is required\n",
    "\n",
    "pd.Series([variance_inflation_factor(X.values, i) \n",
    "               for i in range(X.shape[1])], \n",
    "              index=X.columns)"
   ]
  },
  {
   "cell_type": "code",
   "execution_count": null,
   "metadata": {},
   "outputs": [],
   "source": [
    "cph = CoxPHFitter()\n",
    "\n",
    "cph.fit(ecmodf_cox, 'time', event_col='death')\n",
    "\n",
    "cph.print_summary()\n",
    "\n",
    "## exp(coef) gives hazard ratios"
   ]
  },
  {
   "cell_type": "code",
   "execution_count": null,
   "metadata": {},
   "outputs": [],
   "source": [
    "cph.log_likelihood_ratio_test()"
   ]
  },
  {
   "cell_type": "code",
   "execution_count": null,
   "metadata": {},
   "outputs": [],
   "source": [
    "plt.rcParams['font.family'] = 'sans-serif'\n",
    "plt.rcParams['font.sans-serif'] = ['Tahoma']\n",
    "\n",
    "fig, ax = plt.subplots(figsize=(10, 7))\n",
    "\n",
    "plt.xlim(-0.5, 4.2)\n",
    "\n",
    "cph.plot(hazard_ratios=True, ax = ax, elinewidth = 2, capsize = 3, fmt='o', ecolor='lightgray')\n",
    "\n",
    "#xlolims=True,\n",
    "\n",
    "plt.tight_layout()\n",
    "\n",
    "plt.savefig('figures/fig1.png')\n"
   ]
  },
  {
   "cell_type": "code",
   "execution_count": null,
   "metadata": {
    "scrolled": true
   },
   "outputs": [],
   "source": [
    "### For partial effects charts for clusters\n",
    "\n",
    "ecmodf_survival2 = pd.read_csv('ecmodf_analysis_survival.csv', index_col=0)\n",
    "\n",
    "ecmodf_cox2 = ecmodf_survival2.drop(columns = ['hosp', 'time2', 'sofa', 'resp'])\n",
    "\n",
    "ecmodf_cox2['SOFA score'] = ecmodf_survival2['sofa']\n",
    "\n",
    "ecmodf_cox2['RESP score'] = ecmodf_survival2['resp']\n",
    "\n",
    "ecmodf_cox2 = pd.concat([ecmodf_cox2, pd.get_dummies(ecmodf_cox2['cluster'], prefix = 'cluster')], axis=1)\n",
    "ecmodf_cox2.drop(['cluster', 'cluster_2'], inplace=True, axis=1)\n",
    "\n",
    "#ecmodf_cox2['Hyperinflammatory Cluster'] = ecmodf_survival2['hicluster']\n",
    "#ecmodf_cox2.drop(['cluster', 'hicluster'], inplace=True, axis=1)\n",
    "\n"
   ]
  },
  {
   "cell_type": "code",
   "execution_count": null,
   "metadata": {},
   "outputs": [],
   "source": [
    "cph = CoxPHFitter()\n",
    "\n",
    "cph.fit(ecmodf_cox2, 'time', event_col='death')\n",
    "\n",
    "cph.print_summary()\n"
   ]
  },
  {
   "cell_type": "code",
   "execution_count": null,
   "metadata": {},
   "outputs": [],
   "source": [
    "fig, ax = plt.subplots(figsize=(10, 10))\n",
    "\n",
    "plt.xlim(0, 8)\n",
    "\n",
    "cph.plot(hazard_ratios=True, ax = ax, elinewidth = 2, capsize = 3, fmt='o', ecolor='lightgray')"
   ]
  },
  {
   "cell_type": "code",
   "execution_count": null,
   "metadata": {},
   "outputs": [],
   "source": [
    "fig, ax = plt.subplots(figsize=(10, 6))\n",
    "\n",
    "plt.xlim(0, 55)\n",
    "\n",
    "cph.plot_partial_effects_on_outcome(covariates='cluster_1', values=[0, 1], plot_baseline=False, ax=ax, cmap='coolwarm')\n",
    "\n",
    "\n"
   ]
  },
  {
   "cell_type": "markdown",
   "metadata": {},
   "source": [
    "## Cluster vs Others"
   ]
  },
  {
   "cell_type": "code",
   "execution_count": null,
   "metadata": {},
   "outputs": [],
   "source": [
    "# Setup data frames for mortality contingency tables\n",
    "# Compare one cluster against the other two clusters\n",
    "\n",
    "mort0 = pd.DataFrame(index=['Alive', 'Dead'], columns=['C0', 'Rest'])\n",
    "mort1 = pd.DataFrame(index=['Alive', 'Dead'], columns=['C1', 'Rest'])\n",
    "mort2 = pd.DataFrame(index=['Alive', 'Dead'], columns=['C2', 'Rest'])\n",
    "\n",
    "mort0.loc['Alive','C0'] = (~ecmoclus0['death']).values.sum()\n",
    "mort0.loc['Dead','C0'] = ecmoclus0['death'].values.sum()\n",
    "mort0.loc['Alive','Rest'] = (~ecmoclus1['death']).values.sum() + (~ecmoclus2['death']).values.sum()\n",
    "mort0.loc['Dead','Rest'] = ecmoclus1['death'].values.sum() + ecmoclus2['death'].values.sum()\n",
    "\n",
    "mort1.loc['Alive','C1'] = (~ecmoclus1['death']).values.sum()\n",
    "mort1.loc['Dead','C1'] = ecmoclus1['death'].values.sum()\n",
    "mort1.loc['Alive','Rest'] = (~ecmoclus0['death']).values.sum() + (~ecmoclus2['death']).values.sum()\n",
    "mort1.loc['Dead','Rest'] = ecmoclus0['death'].values.sum() + ecmoclus2['death'].values.sum()\n",
    "\n",
    "mort2.loc['Alive','C2'] = (~ecmoclus2['death']).values.sum()\n",
    "mort2.loc['Dead','C2'] = ecmoclus2['death'].values.sum()\n",
    "mort2.loc['Alive','Rest'] = (~ecmoclus1['death']).values.sum() + (~ecmoclus0['death']).values.sum()\n",
    "mort2.loc['Dead','Rest'] = ecmoclus1['death'].values.sum() + ecmoclus0['death'].values.sum()\n",
    "\n",
    "print(mort0)\n",
    "print(mort1)\n",
    "print(mort2)\n",
    "\n",
    "# Fisher exact test to compare mortality of each cluster vs the rest\n",
    "\n",
    "mort0OR, mort0PVAL = fisher_exact(mort0)\n",
    "mort1OR, mort1PVAL = fisher_exact(mort1)\n",
    "mort2OR, mort2PVAL = fisher_exact(mort2)\n",
    "\n",
    "if mort0PVAL <0.05:\n",
    "    print(\"there is a significant difference between mortality in C0 and all other patients\")\n",
    "    print(mort0PVAL)\n",
    "else:\n",
    "    print(\"there is NOT a significant difference between mortality in C0 and all other patients\")\n",
    "    print(mort0PVAL)\n",
    "    \n",
    "if mort1PVAL <0.05:\n",
    "    print(\"there is a significant difference between mortality in C1 and all other patients\")\n",
    "    print(mort1PVAL)\n",
    "else:\n",
    "    print(\"there is NOT a significant difference between mortality in C1 and all other patients\")\n",
    "    print(mort1PVAL)\n",
    "    \n",
    "if mort2PVAL <0.05:\n",
    "    print(\"there is a significant difference between mortality in C2 and all other patients\")\n",
    "    print(mort2PVAL)\n",
    "else:\n",
    "    print(\"there is NOT a significant difference between mortality in C2 and all other patients\")\n",
    "    print(mort2PVAL)"
   ]
  },
  {
   "cell_type": "code",
   "execution_count": null,
   "metadata": {},
   "outputs": [],
   "source": [
    "# Setup data frames for RRT contingency tables\n",
    "# Compare one cluster against the other two clusters\n",
    "\n",
    "rrt0 = pd.DataFrame(index=['RRT', 'No RRT'], columns=['C0', 'Rest'])\n",
    "rrt1 = pd.DataFrame(index=['RRT', 'No RRT'], columns=['C1', 'Rest'])\n",
    "rrt2 = pd.DataFrame(index=['RRT', 'No RRT'], columns=['C2', 'Rest'])\n",
    "\n",
    "rrt0.loc['No RRT','C0'] = (~ecmoclus0['rrt']).values.sum()\n",
    "rrt0.loc['RRT','C0'] = ecmoclus0['rrt'].values.sum()\n",
    "rrt0.loc['No RRT','Rest'] = (~ecmoclus1['rrt']).values.sum() + (~ecmoclus2['rrt']).values.sum()\n",
    "rrt0.loc['RRT','Rest'] = ecmoclus1['rrt'].values.sum() + ecmoclus2['rrt'].values.sum()\n",
    "\n",
    "rrt1.loc['No RRT','C1'] = (~ecmoclus1['rrt']).values.sum()\n",
    "rrt1.loc['RRT','C1'] = ecmoclus1['rrt'].values.sum()\n",
    "rrt1.loc['No RRT','Rest'] = (~ecmoclus0['rrt']).values.sum() + (~ecmoclus2['rrt']).values.sum()\n",
    "rrt1.loc['RRT','Rest'] = ecmoclus0['rrt'].values.sum() + ecmoclus2['rrt'].values.sum()\n",
    "\n",
    "rrt2.loc['No RRT','C2'] = (~ecmoclus2['rrt']).values.sum()\n",
    "rrt2.loc['RRT','C2'] = ecmoclus2['rrt'].values.sum()\n",
    "rrt2.loc['No RRT','Rest'] = (~ecmoclus1['rrt']).values.sum() + (~ecmoclus0['death']).values.sum()\n",
    "rrt2.loc['RRT','Rest'] = ecmoclus1['rrt'].values.sum() + ecmoclus0['death'].values.sum()\n",
    "\n",
    "print(rrt0)\n",
    "print(rrt1)\n",
    "print(rrt2)\n",
    "\n",
    "# Fisher exact test to compare RRT of each cluster vs the rest\n",
    "\n",
    "rrt0OR, rrt0PVAL = fisher_exact(rrt0)\n",
    "rrt1OR, rrt1PVAL = fisher_exact(rrt1)\n",
    "rrt2OR, rrt2PVAL = fisher_exact(rrt2)\n",
    "\n",
    "if rrt0PVAL <0.05:\n",
    "    print(\"there is a significant difference between RRT in C0 and all other patients\")\n",
    "    print(rrt0PVAL)\n",
    "else:\n",
    "    print(\"there is NOT a significant difference between RRT in C0 and all other patients\")\n",
    "    print(rrt0PVAL)\n",
    "    \n",
    "if rrt1PVAL <0.05:\n",
    "    print(\"there is a significant difference between RRT in C1 and all other patients\")\n",
    "    print(rrt1PVAL)\n",
    "else:\n",
    "    print(\"there is NOT a significant difference between RRT in C1 and all other patients\")\n",
    "    print(rrt1PVAL)\n",
    "    \n",
    "if rrt2PVAL <0.05:\n",
    "    print(\"there is a significant difference between RRT in C2 and all other patients\")\n",
    "    print(rrt2PVAL)\n",
    "else:\n",
    "    print(\"there is NOT a significant difference between RRT in C2 and all other patients\")\n",
    "    print(rrt2PVAL)"
   ]
  },
  {
   "cell_type": "code",
   "execution_count": null,
   "metadata": {},
   "outputs": [],
   "source": [
    "# Setup data frames for PE contingency tables\n",
    "# Compare one cluster against the other two clusters\n",
    "\n",
    "pe0 = pd.DataFrame(index=['pe', 'No pe'], columns=['C0', 'Rest'])\n",
    "pe1 = pd.DataFrame(index=['pe', 'No pe'], columns=['C1', 'Rest'])\n",
    "pe2 = pd.DataFrame(index=['pe', 'No pe'], columns=['C2', 'Rest'])\n",
    "\n",
    "pe0.loc['No pe','C0'] = (~ecmoclus0['pe']).values.sum()\n",
    "pe0.loc['pe','C0'] = ecmoclus0['pe'].values.sum()\n",
    "pe0.loc['No pe','Rest'] = (~ecmoclus1['pe']).values.sum() + (~ecmoclus2['pe']).values.sum()\n",
    "pe0.loc['pe','Rest'] = ecmoclus1['pe'].values.sum() + ecmoclus2['pe'].values.sum()\n",
    "\n",
    "pe1.loc['No pe','C1'] = (~ecmoclus1['pe']).values.sum()\n",
    "pe1.loc['pe','C1'] = ecmoclus1['pe'].values.sum()\n",
    "pe1.loc['No pe','Rest'] = (~ecmoclus0['pe']).values.sum() + (~ecmoclus2['pe']).values.sum()\n",
    "pe1.loc['pe','Rest'] = ecmoclus0['pe'].values.sum() + ecmoclus2['pe'].values.sum()\n",
    "\n",
    "pe2.loc['No pe','C2'] = (~ecmoclus2['pe']).values.sum()\n",
    "pe2.loc['pe','C2'] = ecmoclus2['pe'].values.sum()\n",
    "pe2.loc['No pe','Rest'] = (~ecmoclus1['pe']).values.sum() + (~ecmoclus0['death']).values.sum()\n",
    "pe2.loc['pe','Rest'] = ecmoclus1['pe'].values.sum() + ecmoclus0['death'].values.sum()\n",
    "\n",
    "print(pe0)\n",
    "print(pe1)\n",
    "print(pe2)\n",
    "\n",
    "# Fisher exact test to compare PE of each cluster vs the rest\n",
    "\n",
    "pe0OR, pe0PVAL = fisher_exact(pe0)\n",
    "pe1OR, pe1PVAL = fisher_exact(pe1)\n",
    "pe2OR, pe2PVAL = fisher_exact(pe2)\n",
    "\n",
    "if pe0PVAL <0.05:\n",
    "    print(\"there is a significant difference between PE in C0 and all other patients\")\n",
    "    print(pe0PVAL)\n",
    "else:\n",
    "    print(\"there is NOT a significant difference between PE in C0 and all other patients\")\n",
    "    print(pe0PVAL)\n",
    "    \n",
    "if pe1PVAL <0.05:\n",
    "    print(\"there is a significant difference between PE in C1 and all other patients\")\n",
    "    print(pe1PVAL)\n",
    "else:\n",
    "    print(\"there is NOT a significant difference between PE in C1 and all other patients\")\n",
    "    print(pe1PVAL)\n",
    "    \n",
    "if pe2PVAL <0.05:\n",
    "    print(\"there is a significant difference between pe in C2 and all other patients\")\n",
    "    print(pe2PVAL)\n",
    "else:\n",
    "    print(\"there is NOT a significant difference between pe in C2 and all other patients\")\n",
    "    print(pe2PVAL)"
   ]
  },
  {
   "cell_type": "code",
   "execution_count": null,
   "metadata": {},
   "outputs": [],
   "source": [
    "# Setup data frames for PTX contingency tables\n",
    "# Compare one cluster against the other two clusters\n",
    "\n",
    "ptx0 = pd.DataFrame(index=['ptx', 'No ptx'], columns=['C0', 'Rest'])\n",
    "ptx1 = pd.DataFrame(index=['ptx', 'No ptx'], columns=['C1', 'Rest'])\n",
    "ptx2 = pd.DataFrame(index=['ptx', 'No ptx'], columns=['C2', 'Rest'])\n",
    "\n",
    "ptx0.loc['No ptx','C0'] = (~ecmoclus0['ptx']).values.sum()\n",
    "ptx0.loc['ptx','C0'] = ecmoclus0['ptx'].values.sum()\n",
    "ptx0.loc['No ptx','Rest'] = (~ecmoclus1['ptx']).values.sum() + (~ecmoclus2['ptx']).values.sum()\n",
    "ptx0.loc['ptx','Rest'] = ecmoclus1['ptx'].values.sum() + ecmoclus2['ptx'].values.sum()\n",
    "\n",
    "ptx1.loc['No ptx','C1'] = (~ecmoclus1['ptx']).values.sum()\n",
    "ptx1.loc['ptx','C1'] = ecmoclus1['ptx'].values.sum()\n",
    "ptx1.loc['No ptx','Rest'] = (~ecmoclus0['ptx']).values.sum() + (~ecmoclus2['ptx']).values.sum()\n",
    "ptx1.loc['ptx','Rest'] = ecmoclus0['ptx'].values.sum() + ecmoclus2['ptx'].values.sum()\n",
    "\n",
    "ptx2.loc['No ptx','C2'] = (~ecmoclus2['ptx']).values.sum()\n",
    "ptx2.loc['ptx','C2'] = ecmoclus2['ptx'].values.sum()\n",
    "ptx2.loc['No ptx','Rest'] = (~ecmoclus1['ptx']).values.sum() + (~ecmoclus0['death']).values.sum()\n",
    "ptx2.loc['ptx','Rest'] = ecmoclus1['ptx'].values.sum() + ecmoclus0['death'].values.sum()\n",
    "\n",
    "print(ptx0)\n",
    "print(ptx1)\n",
    "print(ptx2)\n",
    "\n",
    "# Fisher exact test to compare ptx of each cluster vs the rest\n",
    "\n",
    "ptx0OR, ptx0PVAL = fisher_exact(ptx0)\n",
    "ptx1OR, ptx1PVAL = fisher_exact(ptx1)\n",
    "ptx2OR, ptx2PVAL = fisher_exact(ptx2)\n",
    "\n",
    "if ptx0PVAL <0.05:\n",
    "    print(\"there is a significant difference between PTX in C0 and all other patients\")\n",
    "    print(ptx0PVAL)\n",
    "else:\n",
    "    print(\"there is NOT a significant difference between PTX in C0 and all other patients\")\n",
    "    print(ptx0PVAL)\n",
    "    \n",
    "if ptx1PVAL <0.05:\n",
    "    print(\"there is a significant difference between PTX in C1 and all other patients\")\n",
    "    print(ptx1PVAL)\n",
    "else:\n",
    "    print(\"there is NOT a significant difference between PTX in C1 and all other patients\")\n",
    "    print(ptx1PVAL)\n",
    "    \n",
    "if ptx2PVAL <0.05:\n",
    "    print(\"there is a significant difference between ptx in PTX and all other patients\")\n",
    "    print(ptx2PVAL)\n",
    "else:\n",
    "    print(\"there is NOT a significant difference between ptx in PTX and all other patients\")\n",
    "    print(ptx2PVAL)"
   ]
  },
  {
   "cell_type": "code",
   "execution_count": null,
   "metadata": {},
   "outputs": [],
   "source": [
    "# Analysis of variance of medians between clusters using Kruskal-Wallis Test\n",
    "\n",
    "print(\"\"\"Compare for variance in medians between clusters\n",
    "-------------------------------------------------\n",
    "      \"\"\")\n",
    "\n",
    "siglist = [] # initialis a list of significant values\n",
    "\n",
    "for column in ecmoclus0:\n",
    "    a = ecmoclus0[column]\n",
    "    b = ecmoclus1[column]\n",
    "    c = ecmoclus2[column]\n",
    "    stat, pval = kruskal(a, b, c)\n",
    "    if pval < 0.05:\n",
    "        print(str(column) + \" differences are statistically significant with a p-value of: \" + str(pval))\n",
    "        siglist += column\n",
    "    if pval >0.05:\n",
    "        print(str(column) + \" difference are NOT statistically significant with a p-value of: \" + str(pval))"
   ]
  },
  {
   "cell_type": "code",
   "execution_count": null,
   "metadata": {},
   "outputs": [],
   "source": [
    "from pingouin import pairwise_gameshowell, read_dataset\n",
    "pairwise_gameshowell(data=ecmodf_analysis, dv='ddim',\n",
    "                     between='cluster')  "
   ]
  },
  {
   "cell_type": "code",
   "execution_count": null,
   "metadata": {},
   "outputs": [],
   "source": []
  }
 ],
 "metadata": {
  "kernelspec": {
   "display_name": "Python 3",
   "language": "python",
   "name": "python3"
  },
  "language_info": {
   "codemirror_mode": {
    "name": "ipython",
    "version": 3
   },
   "file_extension": ".py",
   "mimetype": "text/x-python",
   "name": "python",
   "nbconvert_exporter": "python",
   "pygments_lexer": "ipython3",
   "version": "3.8.8"
  }
 },
 "nbformat": 4,
 "nbformat_minor": 4
}
