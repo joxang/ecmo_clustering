{
 "cells": [
  {
   "cell_type": "code",
   "execution_count": 5,
   "metadata": {},
   "outputs": [],
   "source": [
    "import pandas as pd #make data-frames and summarise data\n",
    "import numpy as np #manipulate multi-dimensional arrays\n",
    "import os as os #file system read\n",
    "import matplotlib.pyplot as plt #visualisation\n",
    "import seaborn as sns\n",
    "from scipy import stats #stats tests\n",
    "from sklearn import preprocessing\n",
    "from sklearn.cluster import KMeans\n",
    "from scipy.stats import ttest_ind \n",
    "from scipy.stats import fisher_exact"
   ]
  },
  {
   "cell_type": "code",
   "execution_count": 6,
   "metadata": {},
   "outputs": [
    {
     "name": "stdout",
     "output_type": "stream",
     "text": [
      "age         0\n",
      "bmi         0\n",
      "ed_v        1\n",
      "v_vv        0\n",
      "sofa        0\n",
      "pfr         4\n",
      "pco2        6\n",
      "pplat       6\n",
      "lymph       0\n",
      "nlrat       0\n",
      "pct         1\n",
      "ferritin    0\n",
      "crp         0\n",
      "fib         0\n",
      "ddim        1\n",
      "dtype: int64\n"
     ]
    }
   ],
   "source": [
    "ecmodf = pd.read_csv('data/ecmo.csv', index_col=0)\n",
    "ecmodf = ecmodf.drop(columns=['sx_v', 'neut', 'cr'])\n",
    "print(ecmodf.isnull().sum()) #count null values"
   ]
  },
  {
   "cell_type": "code",
   "execution_count": 7,
   "metadata": {},
   "outputs": [
    {
     "name": "stdout",
     "output_type": "stream",
     "text": [
      "age         0\n",
      "bmi         0\n",
      "ed_v        0\n",
      "v_vv        0\n",
      "sofa        0\n",
      "pfr         0\n",
      "pco2        0\n",
      "pplat       0\n",
      "lymph       0\n",
      "nlrat       0\n",
      "pct         0\n",
      "ferritin    0\n",
      "crp         0\n",
      "fib         0\n",
      "ddim        0\n",
      "dtype: int64\n"
     ]
    }
   ],
   "source": [
    "ecmodf.fillna(ecmodf.mean(), inplace=True) #impute null values with mean of column\n",
    "print(ecmodf.isnull().sum()) #recount null values"
   ]
  },
  {
   "cell_type": "code",
   "execution_count": 8,
   "metadata": {},
   "outputs": [
    {
     "data": {
      "text/html": [
       "<div>\n",
       "<style scoped>\n",
       "    .dataframe tbody tr th:only-of-type {\n",
       "        vertical-align: middle;\n",
       "    }\n",
       "\n",
       "    .dataframe tbody tr th {\n",
       "        vertical-align: top;\n",
       "    }\n",
       "\n",
       "    .dataframe thead th {\n",
       "        text-align: right;\n",
       "    }\n",
       "</style>\n",
       "<table border=\"1\" class=\"dataframe\">\n",
       "  <thead>\n",
       "    <tr style=\"text-align: right;\">\n",
       "      <th></th>\n",
       "      <th>age</th>\n",
       "      <th>bmi</th>\n",
       "      <th>ed_v</th>\n",
       "      <th>v_vv</th>\n",
       "      <th>sofa</th>\n",
       "      <th>pfr</th>\n",
       "      <th>pco2</th>\n",
       "      <th>pplat</th>\n",
       "      <th>lymph</th>\n",
       "      <th>nlrat</th>\n",
       "      <th>pct</th>\n",
       "      <th>ferritin</th>\n",
       "      <th>crp</th>\n",
       "      <th>fib</th>\n",
       "      <th>ddim</th>\n",
       "    </tr>\n",
       "    <tr>\n",
       "      <th>id</th>\n",
       "      <th></th>\n",
       "      <th></th>\n",
       "      <th></th>\n",
       "      <th></th>\n",
       "      <th></th>\n",
       "      <th></th>\n",
       "      <th></th>\n",
       "      <th></th>\n",
       "      <th></th>\n",
       "      <th></th>\n",
       "      <th></th>\n",
       "      <th></th>\n",
       "      <th></th>\n",
       "      <th></th>\n",
       "      <th></th>\n",
       "    </tr>\n",
       "  </thead>\n",
       "  <tbody>\n",
       "    <tr>\n",
       "      <th>1</th>\n",
       "      <td>46</td>\n",
       "      <td>34</td>\n",
       "      <td>3.0</td>\n",
       "      <td>2</td>\n",
       "      <td>4</td>\n",
       "      <td>48.750000</td>\n",
       "      <td>6.0000</td>\n",
       "      <td>29.00</td>\n",
       "      <td>0.4</td>\n",
       "      <td>24.0</td>\n",
       "      <td>0.800000</td>\n",
       "      <td>1609</td>\n",
       "      <td>306</td>\n",
       "      <td>7.2</td>\n",
       "      <td>10.3</td>\n",
       "    </tr>\n",
       "    <tr>\n",
       "      <th>2</th>\n",
       "      <td>34</td>\n",
       "      <td>37</td>\n",
       "      <td>6.0</td>\n",
       "      <td>1</td>\n",
       "      <td>4</td>\n",
       "      <td>76.500000</td>\n",
       "      <td>9.8918</td>\n",
       "      <td>29.36</td>\n",
       "      <td>0.5</td>\n",
       "      <td>31.2</td>\n",
       "      <td>12.336727</td>\n",
       "      <td>115</td>\n",
       "      <td>217</td>\n",
       "      <td>4.1</td>\n",
       "      <td>80.0</td>\n",
       "    </tr>\n",
       "    <tr>\n",
       "      <th>3</th>\n",
       "      <td>66</td>\n",
       "      <td>26</td>\n",
       "      <td>6.0</td>\n",
       "      <td>1</td>\n",
       "      <td>10</td>\n",
       "      <td>61.578947</td>\n",
       "      <td>7.5500</td>\n",
       "      <td>28.00</td>\n",
       "      <td>0.3</td>\n",
       "      <td>19.3</td>\n",
       "      <td>6.290000</td>\n",
       "      <td>5534</td>\n",
       "      <td>409</td>\n",
       "      <td>7.1</td>\n",
       "      <td>80.0</td>\n",
       "    </tr>\n",
       "    <tr>\n",
       "      <th>4</th>\n",
       "      <td>34</td>\n",
       "      <td>36</td>\n",
       "      <td>0.0</td>\n",
       "      <td>2</td>\n",
       "      <td>6</td>\n",
       "      <td>72.187500</td>\n",
       "      <td>7.1000</td>\n",
       "      <td>30.00</td>\n",
       "      <td>1.9</td>\n",
       "      <td>9.6</td>\n",
       "      <td>1.210000</td>\n",
       "      <td>267</td>\n",
       "      <td>388</td>\n",
       "      <td>7.1</td>\n",
       "      <td>7.4</td>\n",
       "    </tr>\n",
       "    <tr>\n",
       "      <th>5</th>\n",
       "      <td>53</td>\n",
       "      <td>42</td>\n",
       "      <td>1.0</td>\n",
       "      <td>2</td>\n",
       "      <td>12</td>\n",
       "      <td>80.833333</td>\n",
       "      <td>9.3000</td>\n",
       "      <td>31.00</td>\n",
       "      <td>0.8</td>\n",
       "      <td>7.4</td>\n",
       "      <td>100.000000</td>\n",
       "      <td>6023</td>\n",
       "      <td>665</td>\n",
       "      <td>5.9</td>\n",
       "      <td>73.3</td>\n",
       "    </tr>\n",
       "  </tbody>\n",
       "</table>\n",
       "</div>"
      ],
      "text/plain": [
       "    age  bmi  ed_v  v_vv  sofa        pfr    pco2  pplat  lymph  nlrat  \\\n",
       "id                                                                       \n",
       "1    46   34   3.0     2     4  48.750000  6.0000  29.00    0.4   24.0   \n",
       "2    34   37   6.0     1     4  76.500000  9.8918  29.36    0.5   31.2   \n",
       "3    66   26   6.0     1    10  61.578947  7.5500  28.00    0.3   19.3   \n",
       "4    34   36   0.0     2     6  72.187500  7.1000  30.00    1.9    9.6   \n",
       "5    53   42   1.0     2    12  80.833333  9.3000  31.00    0.8    7.4   \n",
       "\n",
       "           pct  ferritin  crp  fib  ddim  \n",
       "id                                        \n",
       "1     0.800000      1609  306  7.2  10.3  \n",
       "2    12.336727       115  217  4.1  80.0  \n",
       "3     6.290000      5534  409  7.1  80.0  \n",
       "4     1.210000       267  388  7.1   7.4  \n",
       "5   100.000000      6023  665  5.9  73.3  "
      ]
     },
     "execution_count": 8,
     "metadata": {},
     "output_type": "execute_result"
    }
   ],
   "source": [
    "ecmodf['bmi'] = ecmodf['bmi'].astype('int64')\n",
    "ecmodf.head()"
   ]
  },
  {
   "cell_type": "code",
   "execution_count": 9,
   "metadata": {},
   "outputs": [
    {
     "data": {
      "text/plain": [
       "array([[<AxesSubplot:title={'center':'age'}>,\n",
       "        <AxesSubplot:title={'center':'bmi'}>,\n",
       "        <AxesSubplot:title={'center':'ed_v'}>],\n",
       "       [<AxesSubplot:title={'center':'v_vv'}>,\n",
       "        <AxesSubplot:title={'center':'sofa'}>,\n",
       "        <AxesSubplot:title={'center':'pfr'}>],\n",
       "       [<AxesSubplot:title={'center':'pco2'}>,\n",
       "        <AxesSubplot:title={'center':'pplat'}>,\n",
       "        <AxesSubplot:title={'center':'lymph'}>],\n",
       "       [<AxesSubplot:title={'center':'nlrat'}>,\n",
       "        <AxesSubplot:title={'center':'pct'}>,\n",
       "        <AxesSubplot:title={'center':'ferritin'}>],\n",
       "       [<AxesSubplot:title={'center':'crp'}>,\n",
       "        <AxesSubplot:title={'center':'fib'}>,\n",
       "        <AxesSubplot:title={'center':'ddim'}>]], dtype=object)"
      ]
     },
     "execution_count": 9,
     "metadata": {},
     "output_type": "execute_result"
    },
    {
     "data": {
      "image/png": "[encoded data removed]",
      "text/plain": [
       "<Figure size 864x1152 with 15 Axes>"
      ]
     },
     "metadata": {
      "needs_background": "light"
     },
     "output_type": "display_data"
    }
   ],
   "source": [
    "ecmodf.hist(layout=(5,3), figsize=(12,16)) #visual normality check"
   ]
  },
  {
   "cell_type": "code",
   "execution_count": 10,
   "metadata": {},
   "outputs": [
    {
     "data": {
      "text/plain": [
       "array([6.772e-01, 1.200e-03, 6.200e-03, 1.000e-04, 1.630e-02, 7.278e-01,\n",
       "       0.000e+00, 1.080e-02, 9.300e-03, 0.000e+00, 0.000e+00, 0.000e+00,\n",
       "       8.699e-01, 7.800e-02, 2.100e-03])"
      ]
     },
     "execution_count": 10,
     "metadata": {},
     "output_type": "execute_result"
    }
   ],
   "source": [
    "sval, pval = stats.normaltest(ecmodf)  #D'Agostino-Pearson test\n",
    "pval = np.round(pval, 4)\n",
    "pval"
   ]
  },
  {
   "cell_type": "code",
   "execution_count": 11,
   "metadata": {},
   "outputs": [
    {
     "data": {
      "text/html": [
       "<div>\n",
       "<style scoped>\n",
       "    .dataframe tbody tr th:only-of-type {\n",
       "        vertical-align: middle;\n",
       "    }\n",
       "\n",
       "    .dataframe tbody tr th {\n",
       "        vertical-align: top;\n",
       "    }\n",
       "\n",
       "    .dataframe thead th {\n",
       "        text-align: right;\n",
       "    }\n",
       "</style>\n",
       "<table border=\"1\" class=\"dataframe\">\n",
       "  <thead>\n",
       "    <tr style=\"text-align: right;\">\n",
       "      <th></th>\n",
       "      <th>age</th>\n",
       "      <th>bmi</th>\n",
       "      <th>ed_v</th>\n",
       "      <th>v_vv</th>\n",
       "      <th>sofa</th>\n",
       "      <th>pfr</th>\n",
       "      <th>pco2</th>\n",
       "      <th>pplat</th>\n",
       "      <th>lymph</th>\n",
       "      <th>nlrat</th>\n",
       "      <th>pct</th>\n",
       "      <th>ferritin</th>\n",
       "      <th>crp</th>\n",
       "      <th>fib</th>\n",
       "      <th>ddim</th>\n",
       "    </tr>\n",
       "  </thead>\n",
       "  <tbody>\n",
       "    <tr>\n",
       "      <th>0</th>\n",
       "      <td>0.6772</td>\n",
       "      <td>0.0012</td>\n",
       "      <td>0.0062</td>\n",
       "      <td>0.0001</td>\n",
       "      <td>0.0163</td>\n",
       "      <td>0.7278</td>\n",
       "      <td>0.0</td>\n",
       "      <td>0.0108</td>\n",
       "      <td>0.0093</td>\n",
       "      <td>0.0</td>\n",
       "      <td>0.0</td>\n",
       "      <td>0.0</td>\n",
       "      <td>0.8699</td>\n",
       "      <td>0.078</td>\n",
       "      <td>0.0021</td>\n",
       "    </tr>\n",
       "  </tbody>\n",
       "</table>\n",
       "</div>"
      ],
      "text/plain": [
       "      age     bmi    ed_v    v_vv    sofa     pfr  pco2   pplat   lymph  \\\n",
       "0  0.6772  0.0012  0.0062  0.0001  0.0163  0.7278   0.0  0.0108  0.0093   \n",
       "\n",
       "   nlrat  pct  ferritin     crp    fib    ddim  \n",
       "0    0.0  0.0       0.0  0.8699  0.078  0.0021  "
      ]
     },
     "execution_count": 11,
     "metadata": {},
     "output_type": "execute_result"
    }
   ],
   "source": [
    "normality_df = pd.DataFrame([pval], [0], columns=ecmodf.columns)\n",
    "normality_df"
   ]
  },
  {
   "cell_type": "code",
   "execution_count": 12,
   "metadata": {},
   "outputs": [
    {
     "data": {
      "text/html": [
       "<div>\n",
       "<style scoped>\n",
       "    .dataframe tbody tr th:only-of-type {\n",
       "        vertical-align: middle;\n",
       "    }\n",
       "\n",
       "    .dataframe tbody tr th {\n",
       "        vertical-align: top;\n",
       "    }\n",
       "\n",
       "    .dataframe thead th {\n",
       "        text-align: right;\n",
       "    }\n",
       "</style>\n",
       "<table border=\"1\" class=\"dataframe\">\n",
       "  <thead>\n",
       "    <tr style=\"text-align: right;\">\n",
       "      <th></th>\n",
       "      <th>age</th>\n",
       "      <th>bmi</th>\n",
       "      <th>ed_v</th>\n",
       "      <th>v_vv</th>\n",
       "      <th>sofa</th>\n",
       "      <th>pfr</th>\n",
       "      <th>pco2</th>\n",
       "      <th>pplat</th>\n",
       "      <th>lymph</th>\n",
       "      <th>nlrat</th>\n",
       "      <th>pct</th>\n",
       "      <th>ferritin</th>\n",
       "      <th>crp</th>\n",
       "      <th>fib</th>\n",
       "      <th>ddim</th>\n",
       "    </tr>\n",
       "  </thead>\n",
       "  <tbody>\n",
       "    <tr>\n",
       "      <th>0</th>\n",
       "      <td>0.6772</td>\n",
       "      <td>0.0012</td>\n",
       "      <td>0.0062</td>\n",
       "      <td>0.0001</td>\n",
       "      <td>0.0163</td>\n",
       "      <td>0.7278</td>\n",
       "      <td>0.0</td>\n",
       "      <td>0.0108</td>\n",
       "      <td>0.0093</td>\n",
       "      <td>0.0</td>\n",
       "      <td>0.0</td>\n",
       "      <td>0.0</td>\n",
       "      <td>0.8699</td>\n",
       "      <td>0.078</td>\n",
       "      <td>0.0021</td>\n",
       "    </tr>\n",
       "    <tr>\n",
       "      <th>1</th>\n",
       "      <td>normal</td>\n",
       "      <td>not normal</td>\n",
       "      <td>not normal</td>\n",
       "      <td>not normal</td>\n",
       "      <td>not normal</td>\n",
       "      <td>normal</td>\n",
       "      <td>not normal</td>\n",
       "      <td>not normal</td>\n",
       "      <td>not normal</td>\n",
       "      <td>not normal</td>\n",
       "      <td>not normal</td>\n",
       "      <td>not normal</td>\n",
       "      <td>normal</td>\n",
       "      <td>normal</td>\n",
       "      <td>not normal</td>\n",
       "    </tr>\n",
       "  </tbody>\n",
       "</table>\n",
       "</div>"
      ],
      "text/plain": [
       "      age         bmi        ed_v        v_vv        sofa     pfr        pco2  \\\n",
       "0  0.6772      0.0012      0.0062      0.0001      0.0163  0.7278         0.0   \n",
       "1  normal  not normal  not normal  not normal  not normal  normal  not normal   \n",
       "\n",
       "        pplat       lymph       nlrat         pct    ferritin     crp     fib  \\\n",
       "0      0.0108      0.0093         0.0         0.0         0.0  0.8699   0.078   \n",
       "1  not normal  not normal  not normal  not normal  not normal  normal  normal   \n",
       "\n",
       "         ddim  \n",
       "0      0.0021  \n",
       "1  not normal  "
      ]
     },
     "execution_count": 12,
     "metadata": {},
     "output_type": "execute_result"
    }
   ],
   "source": [
    "norm = []\n",
    "for column in normality_df:\n",
    "        if normality_df.loc[0, column] < 0.05: #in normality df, at each location row 0, per column\n",
    "            norm.append(\"not normal\") #append text to norm array\n",
    "        else:\n",
    "            norm.append(\"normal\")\n",
    "normality_df.loc[1] = norm #adds norm to row 1\n",
    "normality_df\n",
    "            "
   ]
  },
  {
   "cell_type": "code",
   "execution_count": 13,
   "metadata": {},
   "outputs": [],
   "source": [
    "ecmodf_norm = ecmodf.copy()"
   ]
  },
  {
   "cell_type": "code",
   "execution_count": 14,
   "metadata": {},
   "outputs": [],
   "source": [
    "ecmodf_norm['ddim'] = np.log(ecmodf_norm['ddim']) #log conversion of skewed variables - days and sofa not included as would not expected to conform to a power law distribution\n",
    "ecmodf_norm['ferritin'] = np.log(ecmodf_norm['ferritin'])\n",
    "ecmodf_norm['pct'] = np.log(ecmodf_norm['pct'])\n",
    "ecmodf_norm['nlrat'] = np.log(ecmodf_norm['nlrat'])\n",
    "ecmodf_norm['lymph'] = np.log(ecmodf_norm['lymph'])\n",
    "ecmodf_norm['pplat'] = np.log(ecmodf_norm['pplat'])\n",
    "ecmodf_norm['pco2'] = np.log(ecmodf_norm['pco2'])\n",
    "ecmodf_norm['bmi'] = np.log(ecmodf_norm['bmi'])"
   ]
  },
  {
   "cell_type": "code",
   "execution_count": 15,
   "metadata": {},
   "outputs": [
    {
     "data": {
      "text/plain": [
       "array([[<AxesSubplot:title={'center':'age'}>,\n",
       "        <AxesSubplot:title={'center':'bmi'}>,\n",
       "        <AxesSubplot:title={'center':'ed_v'}>],\n",
       "       [<AxesSubplot:title={'center':'v_vv'}>,\n",
       "        <AxesSubplot:title={'center':'sofa'}>,\n",
       "        <AxesSubplot:title={'center':'pfr'}>],\n",
       "       [<AxesSubplot:title={'center':'pco2'}>,\n",
       "        <AxesSubplot:title={'center':'pplat'}>,\n",
       "        <AxesSubplot:title={'center':'lymph'}>],\n",
       "       [<AxesSubplot:title={'center':'nlrat'}>,\n",
       "        <AxesSubplot:title={'center':'pct'}>,\n",
       "        <AxesSubplot:title={'center':'ferritin'}>],\n",
       "       [<AxesSubplot:title={'center':'crp'}>,\n",
       "        <AxesSubplot:title={'center':'fib'}>,\n",
       "        <AxesSubplot:title={'center':'ddim'}>]], dtype=object)"
      ]
     },
     "execution_count": 15,
     "metadata": {},
     "output_type": "execute_result"
    },
    {
     "data": {
      "image/png": "[encoded data removed]",
      "text/plain": [
       "<Figure size 864x1152 with 15 Axes>"
      ]
     },
     "metadata": {
      "needs_background": "light"
     },
     "output_type": "display_data"
    }
   ],
   "source": [
    "ecmodf_norm.hist(layout=(5,3), figsize=(12,16)) #visual normality check"
   ]
  },
  {
   "cell_type": "code",
   "execution_count": 16,
   "metadata": {},
   "outputs": [
    {
     "data": {
      "image/png": "[encoded data removed]",
      "text/plain": [
       "<Figure size 864x1152 with 15 Axes>"
      ]
     },
     "metadata": {
      "needs_background": "light"
     },
     "output_type": "display_data"
    }
   ],
   "source": [
    "normalize = preprocessing.MinMaxScaler()\n",
    "ecmodf_normalized = normalize.fit_transform(ecmodf_norm)\n",
    "ecmodf_normalized = pd.DataFrame(ecmodf_normalized)\n",
    "ecmodf_normalized.columns = ecmodf_norm.columns\n",
    "ecmodf_normalized.hist(layout=(5,3), figsize=(12,16)) #visual normality check\n",
    "\n",
    "ecmodf_normalized.to_csv(r'ecmodf_norm.csv', header=True)"
   ]
  },
  {
   "cell_type": "code",
   "execution_count": 17,
   "metadata": {},
   "outputs": [
    {
     "name": "stderr",
     "output_type": "stream",
     "text": [
      "C:\\Users\\Joe Z\\anaconda3\\envs\\nlp\\lib\\site-packages\\sklearn\\cluster\\_kmeans.py:1036: UserWarning: KMeans is known to have a memory leak on Windows with MKL, when there are less chunks than available threads. You can avoid it by setting the environment variable OMP_NUM_THREADS=1.\n",
      "  warnings.warn(\n"
     ]
    },
    {
     "data": {
      "image/png": "[encoded data removed]",
      "text/plain": [
       "<Figure size 1152x576 with 1 Axes>"
      ]
     },
     "metadata": {
      "needs_background": "light"
     },
     "output_type": "display_data"
    }
   ],
   "source": [
    "inertia = []\n",
    "K = range(1,10)\n",
    "for k in K:\n",
    "    kmeanModel = KMeans(n_clusters=k, init='k-means++')\n",
    "    kmeanModel.fit(ecmodf_normalized)\n",
    "    inertia.append(kmeanModel.inertia_)\n",
    "    \n",
    "plt.figure(figsize=(16,8))\n",
    "plt.plot(K, inertia, 'bx-')\n",
    "plt.xlabel('k')\n",
    "plt.ylabel('inertia')\n",
    "plt.title('The Elbow Method showing the optimal k')\n",
    "plt.show()"
   ]
  },
  {
   "cell_type": "code",
   "execution_count": null,
   "metadata": {},
   "outputs": [],
   "source": [
    "kmeans = KMeans(n_clusters=3, init='k-means++', n_init=1000, n_jobs=-1).fit(ecmodf_normalized)\n",
    "centroids = kmeans.cluster_centers_\n",
    "print(centroids)\n",
    "\n",
    "plt.scatter(ecmodf_normalized['ferritin'], ecmodf_normalized['ddim'], c= kmeans.labels_.astype(float), s=50, alpha=0.5)\n",
    "plt.scatter(centroids[:, 0], centroids[:, 1], c='red', s=50)\n",
    "plt.show()"
   ]
  },
  {
   "cell_type": "code",
   "execution_count": null,
   "metadata": {},
   "outputs": [],
   "source": [
    "pred = kmeans.predict(ecmodf_normalized)\n",
    "ecmodf_clustered = pd.DataFrame(ecmodf)\n",
    "ecmodf_clustered['cluster'] = pred\n",
    "ecmodf_clustered"
   ]
  },
  {
   "cell_type": "code",
   "execution_count": null,
   "metadata": {},
   "outputs": [],
   "source": [
    "outcomesdf = pd.read_csv('outcomes.csv', index_col=0) #sex M=0, F=1; ethnic W=0, B=1, SA/EA=2; na = peak dose during admission\n",
    "ecmodf_analysis = ecmodf_clustered.join(outcomesdf) #join outcomes data to clustering df\n",
    "ecmodf_analysis.head()"
   ]
  },
  {
   "cell_type": "code",
   "execution_count": null,
   "metadata": {},
   "outputs": [],
   "source": [
    "ecmodf_analysis['sex'] = ecmodf_analysis['sex'].astype('bool')\n",
    "ecmodf_analysis['death'] = ecmodf_analysis['death'].astype('bool')\n",
    "ecmodf_analysis['rrt'] = ecmodf_analysis['rrt'].astype('bool')\n",
    "ecmodf_analysis['ethnic'] = ecmodf_analysis['ethnic'].astype('object')\n",
    "ecmodf_analysis.to_csv(r'ecmodf_analysis.csv', header=True)"
   ]
  },
  {
   "cell_type": "code",
   "execution_count": null,
   "metadata": {},
   "outputs": [],
   "source": [
    "ecmoclus0 = ecmodf_analysis[ecmodf_analysis.cluster == 0] #split off into separate cluster dfs\n",
    "ecmoclus1 = ecmodf_analysis[ecmodf_analysis.cluster == 1]\n",
    "ecmoclus2 = ecmodf_analysis[ecmodf_analysis.cluster == 2]"
   ]
  },
  {
   "cell_type": "code",
   "execution_count": null,
   "metadata": {},
   "outputs": [],
   "source": [
    "ecmoclus0.describe()"
   ]
  },
  {
   "cell_type": "code",
   "execution_count": null,
   "metadata": {},
   "outputs": [],
   "source": [
    "ecmoclus0.describe(exclude=['float64', 'int64'])"
   ]
  },
  {
   "cell_type": "code",
   "execution_count": null,
   "metadata": {},
   "outputs": [],
   "source": [
    "ecmoclus1.describe()"
   ]
  },
  {
   "cell_type": "code",
   "execution_count": null,
   "metadata": {},
   "outputs": [],
   "source": [
    "ecmoclus1.describe(exclude=['float64', 'int64'])"
   ]
  },
  {
   "cell_type": "code",
   "execution_count": null,
   "metadata": {},
   "outputs": [],
   "source": [
    "ecmoclus2.describe()"
   ]
  },
  {
   "cell_type": "code",
   "execution_count": null,
   "metadata": {},
   "outputs": [],
   "source": [
    "ecmoclus2.describe(exclude=['float64', 'int64'])"
   ]
  },
  {
   "cell_type": "code",
   "execution_count": null,
   "metadata": {},
   "outputs": [],
   "source": [
    "ecmodf_analysis['cluster'].value_counts() #counts numbers in each cluster"
   ]
  },
  {
   "cell_type": "code",
   "execution_count": null,
   "metadata": {},
   "outputs": [],
   "source": [
    "#steve stats code\n",
    "ecmodf_summ = pd.DataFrame(index = ['C0', 'C1', 'C2'] , columns = ecmodf_analysis.columns) #create new table to show characteristics per cluster\n",
    "\n",
    "for column in ecmoclus0: #mean of each column in each cluster\n",
    "    ecmodf_summ.loc['C0', column] = ecmoclus0[column].mean(axis=0)\n",
    "    \n",
    "for column in ecmoclus1:\n",
    "    ecmodf_summ.loc['C1', column] = ecmoclus1[column].mean(axis=0)\n",
    "    \n",
    "for column in ecmoclus2:\n",
    "    ecmodf_summ.loc['C2', column] = ecmoclus2[column].mean(axis=0)\n",
    "    \n",
    "del ecmodf_summ['cluster'] #delete categorical values\n",
    "del ecmodf_summ['death']\n",
    "del ecmodf_summ['rrt']\n",
    "del ecmodf_summ['sex']\n",
    "del ecmodf_summ['ethnic']\n",
    "    \n",
    "ecmodf_summ"
   ]
  },
  {
   "cell_type": "code",
   "execution_count": null,
   "metadata": {},
   "outputs": [],
   "source": [
    "# Setup data frames for mortality contingency tables\n",
    "# Compare one cluster against the other two clusters\n",
    "\n",
    "mort0 = pd.DataFrame(index=['Alive', 'Dead'], columns=['C0', 'Rest'])\n",
    "mort1 = pd.DataFrame(index=['Alive', 'Dead'], columns=['C1', 'Rest'])\n",
    "mort2 = pd.DataFrame(index=['Alive', 'Dead'], columns=['C2', 'Rest'])\n",
    "\n",
    "mort0.loc['Alive','C0'] = (~ecmoclus0['death']).values.sum()\n",
    "mort0.loc['Dead','C0'] = ecmoclus0['death'].values.sum()\n",
    "mort0.loc['Alive','Rest'] = (~ecmoclus1['death']).values.sum() + (~ecmoclus2['death']).values.sum()\n",
    "mort0.loc['Dead','Rest'] = ecmoclus1['death'].values.sum() + ecmoclus2['death'].values.sum()\n",
    "\n",
    "mort1.loc['Alive','C1'] = (~ecmoclus1['death']).values.sum()\n",
    "mort1.loc['Dead','C1'] = ecmoclus1['death'].values.sum()\n",
    "mort1.loc['Alive','Rest'] = (~ecmoclus0['death']).values.sum() + (~ecmoclus2['death']).values.sum()\n",
    "mort1.loc['Dead','Rest'] = ecmoclus0['death'].values.sum() + ecmoclus2['death'].values.sum()\n",
    "\n",
    "mort2.loc['Alive','C2'] = (~ecmoclus2['death']).values.sum()\n",
    "mort2.loc['Dead','C2'] = ecmoclus2['death'].values.sum()\n",
    "mort2.loc['Alive','Rest'] = (~ecmoclus1['death']).values.sum() + (~ecmoclus0['death']).values.sum()\n",
    "mort2.loc['Dead','Rest'] = ecmoclus1['death'].values.sum() + ecmoclus0['death'].values.sum()\n",
    "\n",
    "print(mort0)\n",
    "print(mort1)\n",
    "print(mort2)"
   ]
  },
  {
   "cell_type": "code",
   "execution_count": null,
   "metadata": {},
   "outputs": [],
   "source": [
    "# Fisher exact test to compare mortality of each cluster vs the rest\n",
    "\n",
    "mort0OR, mort0PVAL = stats.fisher_exact(mort0)\n",
    "mort1OR, mort1PVAL = stats.fisher_exact(mort1)\n",
    "mort2OR, mort2PVAL = stats.fisher_exact(mort2)\n",
    "\n",
    "if mort0PVAL <0.05:\n",
    "    print(\"there is a significant difference between mortality in C0 and all other patients\")\n",
    "    print(mort0PVAL)\n",
    "else:\n",
    "    print(\"there is NOT a significant difference between mortality in C0 and all other patients\")\n",
    "    print(mort0PVAL)\n",
    "    \n",
    "if mort1PVAL <0.05:\n",
    "    print(\"there is a significant difference between mortality in C1 and all other patients\")\n",
    "    print(mort1PVAL)\n",
    "else:\n",
    "    print(\"there is NOT a significant difference between mortality in C1 and all other patients\")\n",
    "    print(mort1PVAL)\n",
    "    \n",
    "if mort2PVAL <0.05:\n",
    "    print(\"there is a significant difference between mortality in C2 and all other patients\")\n",
    "    print(mort2PVAL)\n",
    "else:\n",
    "    print(\"there is NOT a significant difference between mortality in C2 and all other patients\")\n",
    "    print(mort2PVAL)"
   ]
  },
  {
   "cell_type": "code",
   "execution_count": null,
   "metadata": {},
   "outputs": [],
   "source": [
    "# Setup data frames for RRT contingency tables\n",
    "# Compare one cluster against the other two clusters\n",
    "\n",
    "rrt0 = pd.DataFrame(index=['RRT', 'No RRT'], columns=['C0', 'Rest'])\n",
    "rrt1 = pd.DataFrame(index=['RRT', 'No RRT'], columns=['C1', 'Rest'])\n",
    "rrt2 = pd.DataFrame(index=['RRT', 'No RRT'], columns=['C2', 'Rest'])\n",
    "\n",
    "rrt0.loc['No RRT','C0'] = (~ecmoclus0['rrt']).values.sum()\n",
    "rrt0.loc['RRT','C0'] = ecmoclus0['rrt'].values.sum()\n",
    "rrt0.loc['No RRT','Rest'] = (~ecmoclus1['rrt']).values.sum() + (~ecmoclus2['rrt']).values.sum()\n",
    "rrt0.loc['RRT','Rest'] = ecmoclus1['rrt'].values.sum() + ecmoclus2['rrt'].values.sum()\n",
    "\n",
    "rrt1.loc['No RRT','C1'] = (~ecmoclus1['rrt']).values.sum()\n",
    "rrt1.loc['RRT','C1'] = ecmoclus1['rrt'].values.sum()\n",
    "rrt1.loc['No RRT','Rest'] = (~ecmoclus0['rrt']).values.sum() + (~ecmoclus2['rrt']).values.sum()\n",
    "rrt1.loc['RRT','Rest'] = ecmoclus0['rrt'].values.sum() + ecmoclus2['rrt'].values.sum()\n",
    "\n",
    "rrt2.loc['No RRT','C2'] = (~ecmoclus2['rrt']).values.sum()\n",
    "rrt2.loc['RRT','C2'] = ecmoclus2['rrt'].values.sum()\n",
    "rrt2.loc['No RRT','Rest'] = (~ecmoclus1['rrt']).values.sum() + (~ecmoclus0['death']).values.sum()\n",
    "rrt2.loc['RRT','Rest'] = ecmoclus1['rrt'].values.sum() + ecmoclus0['death'].values.sum()\n",
    "\n",
    "print(rrt0)\n",
    "print(rrt1)\n",
    "print(rrt2)"
   ]
  },
  {
   "cell_type": "code",
   "execution_count": null,
   "metadata": {},
   "outputs": [],
   "source": [
    "# Fisher exact test to compare RRT of each cluster vs the rest\n",
    "\n",
    "rrt0OR, rrt0PVAL = stats.fisher_exact(rrt0)\n",
    "rrt1OR, rrt1PVAL = stats.fisher_exact(rrt1)\n",
    "rrt2OR, rrt2PVAL = stats.fisher_exact(rrt2)\n",
    "\n",
    "if rrt0PVAL <0.05:\n",
    "    print(\"there is a significant difference between RRT in C0 and all other patients\")\n",
    "    print(rrt0PVAL)\n",
    "else:\n",
    "    print(\"there is NOT a significant difference between RRT in C0 and all other patients\")\n",
    "    print(rrt0PVAL)\n",
    "    \n",
    "if rrt1PVAL <0.05:\n",
    "    print(\"there is a significant difference between RRT in C1 and all other patients\")\n",
    "    print(rrt1PVAL)\n",
    "else:\n",
    "    print(\"there is NOT a significant difference between RRT in C1 and all other patients\")\n",
    "    print(rrt1PVAL)\n",
    "    \n",
    "if rrt2PVAL <0.05:\n",
    "    print(\"there is a significant difference between RRT in C2 and all other patients\")\n",
    "    print(rrt2PVAL)\n",
    "else:\n",
    "    print(\"there is NOT a significant difference between RRT in C2 and all other patients\")\n",
    "    print(rrt2PVAL)"
   ]
  },
  {
   "cell_type": "code",
   "execution_count": null,
   "metadata": {},
   "outputs": [],
   "source": [
    "# split into alive and dead dataframes\n",
    "\n",
    "ecmodf_alive = ecmodf_analysis[ecmodf_analysis['death'] == False]\n",
    "ecmodf_dead = ecmodf_analysis[ecmodf_analysis['death'] == True]"
   ]
  },
  {
   "cell_type": "code",
   "execution_count": null,
   "metadata": {},
   "outputs": [],
   "source": [
    "# Mann-Whitney U test to compare means of variables between alive and dead\n",
    "\n",
    "print(\"\"\"Compare variables between alive and dead for statistical significance\n",
    "----------------------------------------------------------------------\n",
    "      \"\"\")\n",
    "for column in ecmodf_alive:\n",
    "    a = ecmodf_alive[column]\n",
    "    b = ecmodf_dead[column]\n",
    "    stat, pval = stats.mannwhitneyu(a, b, alternative='two-sided')\n",
    "    if pval < 0.05:\n",
    "        print(str(column) + \" difference is statistically significant with a p-value of: \" + str(pval))\n",
    "    if pval >0.05:\n",
    "        print(str(column) + \" difference is NOT statistically significant with a p-value of: \" + str(pval))"
   ]
  },
  {
   "cell_type": "code",
   "execution_count": null,
   "metadata": {},
   "outputs": [],
   "source": [
    "# Create a new dataframe with nice labels for graphing reasons\n",
    "\n",
    "nicenames = ['Age (years)', 'BMI (kg/m2)', 'Admission to IMV (days)', 'Ventilation to ECMO (days)', 'SOFA score', 'PF Ratio', 'pCO2 (kPa)', 'Pplat (cmH2O)', 'Lymphocyte count', 'N/L Ratio', 'Procalcitonin', 'Ferritin', 'CRP', 'Fibrinogen', 'D-Dimer', 'Cluster ID']\n",
    "ecmodf_names = ecmodf_clustered\n",
    "ecmodf_names.columns = nicenames"
   ]
  },
  {
   "cell_type": "code",
   "execution_count": null,
   "metadata": {},
   "outputs": [],
   "source": [
    "# Box plot for each variable by cluster\n",
    "\n",
    "for column in ecmodf_names.columns[:15]:\n",
    "        plt.rcParams[\"axes.labelsize\"] = 30\n",
    "        plt.figure(figsize=(10,10))\n",
    "        sns.set(style='whitegrid', palette='pastel', font_scale=2)\n",
    "        sns.boxplot(data = ecmodf_clustered, x = 'Cluster ID', y=column, showmeans=True, showfliers=False, saturation=0.9, meanprops={\"marker\":\"s\",\"markerfacecolor\":\"white\", \"markeredgecolor\":\"grey\"})"
   ]
  },
  {
   "cell_type": "code",
   "execution_count": null,
   "metadata": {},
   "outputs": [],
   "source": [
    "# Make DF suitable for strip plot\n",
    "\n",
    "ecmodf_normalized_clustered = pd.DataFrame(ecmodf_normalized)\n",
    "ecmodf_normalized_clustered['cluster'] = pred\n",
    "ecmodf_normalized_names = ecmodf_normalized_clustered\n",
    "ecmodf_normalized_names.columns = nicenames\n",
    "melted = pd.melt(ecmodf_normalized_clustered, id_vars='Cluster ID')"
   ]
  },
  {
   "cell_type": "code",
   "execution_count": null,
   "metadata": {},
   "outputs": [],
   "source": [
    "# Plot strip plot\n",
    "\n",
    "plt.figure(figsize=(10,15))\n",
    "stripplot = sns.stripplot(data=melted, x='variable', y='value', hue='Cluster ID', jitter=0.2, alpha=0.6, dodge=False, palette='bright')\n",
    "stripplot.set_xticklabels(stripplot.get_xticklabels(), rotation=90, horizontalalignment='right', fontweight='light', fontsize='large')\n",
    "stripplot.set_ylabel(\"Normalised Scale\", fontweight='light', fontsize='large')\n",
    "stripplot.set_title('Distribution of data and clusters by variable', fontweight='light', fontsize='xx-large')\n",
    "plt.savefig(figures/\"ECMOClusterStripPlot3.png\")"
   ]
  },
  {
   "cell_type": "code",
   "execution_count": null,
   "metadata": {},
   "outputs": [],
   "source": []
  }
 ],
 "metadata": {
  "kernelspec": {
   "display_name": "Python 3",
   "language": "python",
   "name": "python3"
  },
  "language_info": {
   "codemirror_mode": {
    "name": "ipython",
    "version": 3
   },
   "file_extension": ".py",
   "mimetype": "text/x-python",
   "name": "python",
   "nbconvert_exporter": "python",
   "pygments_lexer": "ipython3",
   "version": "3.8.8"
  }
 },
 "nbformat": 4,
 "nbformat_minor": 4
}
