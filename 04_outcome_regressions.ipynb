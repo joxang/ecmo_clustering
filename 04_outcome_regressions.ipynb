{
 "cells": [
  {
   "cell_type": "code",
   "execution_count": null,
   "metadata": {},
   "outputs": [],
   "source": [
    "import pandas as pd\n",
    "import numpy as np\n",
    "from scipy.stats import ttest_ind \n",
    "from scipy.stats import fisher_exact\n",
    "from scipy.stats import chi2_contingency\n",
    "from scipy.stats import mannwhitneyu\n",
    "from scipy.stats import kruskal\n",
    "from scipy.stats import f_oneway\n",
    "from scipy.stats import normaltest\n",
    "\n",
    "pd.set_option(\"display.max_columns\", 50)\n",
    "pd.set_option(\"display.max_rows\", 500)"
   ]
  },
  {
   "cell_type": "code",
   "execution_count": null,
   "metadata": {},
   "outputs": [],
   "source": [
    "ecmodf_analysis = pd.read_csv('data/ecmodf_clusters_outcomes.csv', index_col=0)\n",
    "ecmodf_analysis['sex'] = ecmodf_analysis['sex'].astype('bool')\n",
    "ecmodf_analysis['death'] = ecmodf_analysis['death'].astype('bool')\n",
    "ecmodf_analysis['rrt'] = ecmodf_analysis['rrt'].astype('bool')\n",
    "ecmodf_analysis['ptx'] = ecmodf_analysis['ptx'].astype('bool')\n",
    "ecmodf_analysis['pe'] = ecmodf_analysis['pe'].astype('bool')\n",
    "ecmodf_analysis['bronchinf'] = ecmodf_analysis['bronchinf'].astype('bool')\n",
    "ecmodf_analysis['ethnic'] = ecmodf_analysis['ethnic'].astype('object')\n",
    "del ecmodf_analysis['admit_date']\n",
    "del ecmodf_analysis['hosp']"
   ]
  },
  {
   "cell_type": "code",
   "execution_count": null,
   "metadata": {},
   "outputs": [],
   "source": [
    "ecmodf_analysis.head()"
   ]
  },
  {
   "cell_type": "markdown",
   "metadata": {},
   "source": [
    "## Exploratory analysis of SOFA/RESP/age/pfr/pCO2 prediction of mortality"
   ]
  },
  {
   "cell_type": "code",
   "execution_count": null,
   "metadata": {},
   "outputs": [],
   "source": [
    "from sklearn.linear_model import LogisticRegression\n",
    "from sklearn.model_selection import train_test_split\n",
    "from sklearn.metrics import classification_report, confusion_matrix\n",
    "import matplotlib.pyplot as plt \n",
    "import seaborn as sns\n",
    "\n",
    "from sklearn.metrics import roc_auc_score\n",
    "from sklearn.metrics import roc_curve"
   ]
  },
  {
   "cell_type": "code",
   "execution_count": null,
   "metadata": {},
   "outputs": [],
   "source": [
    "regdf = ecmodf_analysis.loc[:, ['death', 'sofa', 'age', 'resp', 'pfr', 'pco2', 'ddim']]\n",
    "regdf['ddim'] = np.log2(regdf['ddim'])\n",
    "regdf.groupby('death').mean()"
   ]
  },
  {
   "cell_type": "code",
   "execution_count": null,
   "metadata": {},
   "outputs": [],
   "source": [
    "#y = predicted outcome\n",
    "y = np.asarray(regdf['death'])\n",
    "y.shape"
   ]
  },
  {
   "cell_type": "code",
   "execution_count": null,
   "metadata": {},
   "outputs": [],
   "source": [
    "#X = array of independent variable(s)\n",
    "ind = ['resp', 'sofa', 'ddim'] ## <------ modify chosen variables here\n",
    "\n",
    "x0 = np.asarray(regdf.loc[:, ind])\n",
    "\n",
    "X = x0.reshape(56, len(ind))\n",
    "X.shape"
   ]
  },
  {
   "cell_type": "code",
   "execution_count": null,
   "metadata": {},
   "outputs": [],
   "source": [
    "X[:10]"
   ]
  },
  {
   "cell_type": "code",
   "execution_count": null,
   "metadata": {},
   "outputs": [],
   "source": [
    "sns.countplot(x = 'death', data = regdf)\n",
    "\n",
    "# Most ML algorithms have poor performance on minority class.\n",
    "# I.e. - most results are in category A, therefore will predict category A most of the time\n",
    "# SMOTE (synthetic minority oversampling technique) will synthesize new samples for minority classes using existing data\n",
    "# This doesn't add new information to the model but improves model performance\n",
    "# from imblearn.over_sampling import SMOTE\n",
    "# oversample = SMOTE()\n",
    "# X, y = oversample.fit_resample(X, y)\n",
    "\n",
    "#==> Currently doesn't not work due to version dependencies\n",
    "#==> So using \"class_weights = \"balanced\" instead, which attempts to balance classes in model using artifical weighting\n",
    "\n",
    "plt.show()"
   ]
  },
  {
   "cell_type": "code",
   "execution_count": null,
   "metadata": {},
   "outputs": [],
   "source": [
    "import statsmodels.api as sm\n",
    "\n",
    "logit_model=sm.Logit(y,X) \n",
    "\n",
    "result=logit_model.fit()\n",
    "print(result.summary()) "
   ]
  },
  {
   "cell_type": "code",
   "execution_count": null,
   "metadata": {},
   "outputs": [],
   "source": [
    "##coef = regression coefficient (b1) = estimated increase in the log odds of outcome per integer unit increase in value of exposure\n",
    "##give other exposure remaining same in multiple regression. Coef gives idea of effect size and direction\n",
    "##p-value <0.05 if effect is statistically significant\n",
    "\n",
    "OR = np.exp(result.params) #odds ratio - per integer unit increment - converted back from log odds by e^b1\n",
    "CI =  np.exp(result.conf_int()) #confidence interval for odds ratio\n",
    "\n",
    "odds_ratios = pd.DataFrame()\n",
    "\n",
    "odds_ratios['var'] = pd.Series(ind)\n",
    "odds_ratios['odds ratio'] = pd.Series(OR)\n",
    "odds_ratios = pd.concat([odds_ratios, pd.DataFrame(CI)], axis=1)\n",
    "#odds_ratios['CI1'] = pd.Series(CI)\n",
    "\n",
    "odds_ratios"
   ]
  },
  {
   "cell_type": "code",
   "execution_count": null,
   "metadata": {},
   "outputs": [],
   "source": [
    "np.exp(result.conf_int()) #confidence interval for odds ratio"
   ]
  },
  {
   "cell_type": "code",
   "execution_count": null,
   "metadata": {},
   "outputs": [],
   "source": [
    "#weights = {0 : '0.28', 1 : '0.72'}\n",
    "\n",
    "model = LogisticRegression(solver='liblinear', class_weight=\"balanced\", C = 0.5, penalty='l1', random_state=0)\n",
    "#low C help prevent overfitting in small dataset\n",
    "model.fit(X, y)"
   ]
  },
  {
   "cell_type": "code",
   "execution_count": null,
   "metadata": {},
   "outputs": [],
   "source": [
    "print(classification_report(y, model.predict(X)))"
   ]
  },
  {
   "cell_type": "code",
   "execution_count": null,
   "metadata": {},
   "outputs": [],
   "source": [
    "cm = confusion_matrix(y, model.predict(X))\n",
    "\n",
    "fig, ax = plt.subplots(figsize=(8, 8))\n",
    "ax.imshow(cm)\n",
    "ax.grid(False)\n",
    "ax.xaxis.set(ticks=(0, 1), ticklabels=('Predicted 0s', 'Predicted 1s'))\n",
    "ax.yaxis.set(ticks=(0, 1), ticklabels=('Actual 0s', 'Actual 1s'))\n",
    "ax.set_ylim(1.5, -0.5)\n",
    "for i in range(2):\n",
    "    for j in range(2):\n",
    "        ax.text(j, i, cm[i, j], ha='center', va='center', color='red')\n",
    "        \n",
    "plt.show()"
   ]
  },
  {
   "cell_type": "code",
   "execution_count": null,
   "metadata": {},
   "outputs": [],
   "source": [
    "logit_roc_auc = roc_auc_score(y, model.predict(X))\n",
    "fpr, tpr, thresholds = roc_curve(y, model.predict_proba(X)[:,1])\n",
    "plt.figure()\n",
    "plt.plot(fpr, tpr, label='Logistic Regression (area = %0.2f)' % logit_roc_auc)\n",
    "plt.plot([0, 1], [0, 1],'r--')\n",
    "plt.xlim([0.0, 1.0])\n",
    "plt.ylim([0.0, 1.05])\n",
    "plt.xlabel('False Positive Rate')\n",
    "plt.ylabel('True Positive Rate')\n",
    "plt.title('Receiver operating characteristic')\n",
    "plt.legend(loc=\"lower right\")\n",
    "plt.savefig('Log_ROC')\n",
    "\n",
    "plt.show()"
   ]
  },
  {
   "cell_type": "markdown",
   "metadata": {},
   "source": [
    "## Adding membership of clusters into model"
   ]
  },
  {
   "cell_type": "code",
   "execution_count": null,
   "metadata": {},
   "outputs": [],
   "source": [
    "from sklearn.linear_model import LogisticRegression\n",
    "from sklearn.model_selection import train_test_split\n",
    "from sklearn.metrics import classification_report, confusion_matrix\n",
    "import matplotlib.pyplot as plt \n",
    "import seaborn as sns\n",
    "\n",
    "from sklearn.metrics import roc_auc_score\n",
    "from sklearn.metrics import roc_curve"
   ]
  },
  {
   "cell_type": "code",
   "execution_count": null,
   "metadata": {},
   "outputs": [],
   "source": [
    "temp = ecmodf_analysis.copy()\n",
    "\n",
    "temp = pd.concat([temp, pd.get_dummies(temp['cluster'], prefix = 'cluster')], axis=1)\n",
    "temp.drop('cluster', inplace=True, axis=1)\n",
    "\n",
    "##hypoinflammatory\n",
    "#temp.loc[temp['cluster'] == 2, 'cluster'] = 0\n",
    "\n",
    "##septic\n",
    "#temp.loc[temp['cluster'] == 1, 'cluster'] = 2\n",
    "#temp.loc[temp['cluster'] == 0, 'cluster'] = 1\n",
    "#temp.loc[temp['cluster'] == 2, 'cluster'] = 0\n",
    "\n",
    "##fulminant\n",
    "#temp.loc[temp['cluster'] == 1, 'cluster'] = 0\n",
    "#temp.loc[temp['cluster'] == 2, 'cluster'] = 1\n",
    "\n",
    "temp.head()\n",
    "\n",
    "\n"
   ]
  },
  {
   "cell_type": "code",
   "execution_count": null,
   "metadata": {},
   "outputs": [],
   "source": [
    "regdf = temp.loc[:, ['death', 'sofa', 'age', 'resp', 'cluster_0', 'cluster_1', 'cluster_2', 'rrt', 'ddim']]\n",
    "regdf['ddim'] = np.log2(regdf['ddim'])\n",
    "regdf.head()"
   ]
  },
  {
   "cell_type": "code",
   "execution_count": null,
   "metadata": {},
   "outputs": [],
   "source": [
    "#y = predicted outcome\n",
    "y = np.asarray(regdf['rrt'])\n",
    "y.shape"
   ]
  },
  {
   "cell_type": "code",
   "execution_count": null,
   "metadata": {},
   "outputs": [],
   "source": [
    "#X = array of independent variable(s)\n",
    "ind = ['cluster_1', 'cluster_0', 'sofa', 'resp'] ## modify chosen variables here\n",
    "\n",
    "x0 = np.asarray(regdf.loc[:, ind])\n",
    "\n",
    "X = x0.reshape(56, len(ind))\n",
    "X.shape"
   ]
  },
  {
   "cell_type": "code",
   "execution_count": null,
   "metadata": {},
   "outputs": [],
   "source": [
    "X[:10]"
   ]
  },
  {
   "cell_type": "code",
   "execution_count": null,
   "metadata": {},
   "outputs": [],
   "source": [
    "import statsmodels.api as sm\n",
    "\n",
    "logit_model=sm.Logit(y,X)\n",
    "\n",
    "result=logit_model.fit()\n",
    "print(result.summary())"
   ]
  },
  {
   "cell_type": "code",
   "execution_count": null,
   "metadata": {},
   "outputs": [],
   "source": [
    "OR = np.exp(result.params) #odds ratio \n",
    "CI =  np.exp(result.conf_int()) #confidence interval for odds ratio\n",
    "\n",
    "odds_ratios = pd.DataFrame()\n",
    "\n",
    "odds_ratios['var'] = pd.Series(ind)\n",
    "odds_ratios['odds ratio'] = pd.Series(OR)\n",
    "odds_ratios = pd.concat([odds_ratios, pd.DataFrame(CI)], axis=1)\n",
    "#odds_ratios['CI1'] = pd.Series(CI)\n",
    "\n",
    "odds_ratios"
   ]
  },
  {
   "cell_type": "code",
   "execution_count": null,
   "metadata": {},
   "outputs": [],
   "source": [
    "model = LogisticRegression(solver='liblinear', class_weight=\"balanced\", penalty='l1', C = 1.0, random_state=0)\n",
    "model.fit(X, y)"
   ]
  },
  {
   "cell_type": "code",
   "execution_count": null,
   "metadata": {},
   "outputs": [],
   "source": [
    "print(classification_report(y, model.predict(X)))"
   ]
  },
  {
   "cell_type": "code",
   "execution_count": null,
   "metadata": {},
   "outputs": [],
   "source": [
    "cm = confusion_matrix(y, model.predict(X))\n",
    "\n",
    "fig, ax = plt.subplots(figsize=(8, 8))\n",
    "ax.imshow(cm)\n",
    "ax.grid(False)\n",
    "ax.xaxis.set(ticks=(0, 1), ticklabels=('Predicted 0s', 'Predicted 1s'))\n",
    "ax.yaxis.set(ticks=(0, 1), ticklabels=('Actual 0s', 'Actual 1s'))\n",
    "ax.set_ylim(1.5, -0.5)\n",
    "for i in range(2):\n",
    "    for j in range(2):\n",
    "        ax.text(j, i, cm[i, j], ha='center', va='center', color='red')\n",
    "        \n",
    "plt.show()"
   ]
  },
  {
   "cell_type": "code",
   "execution_count": null,
   "metadata": {},
   "outputs": [],
   "source": [
    "logit_roc_auc = roc_auc_score(y, model.predict(X))\n",
    "fpr, tpr, thresholds = roc_curve(y, model.predict_proba(X)[:,1])\n",
    "plt.figure()\n",
    "plt.plot(fpr, tpr, label='Logistic Regression (area = %0.2f)' % logit_roc_auc)\n",
    "plt.plot([0, 1], [0, 1],'r--')\n",
    "plt.xlim([0.0, 1.0])\n",
    "plt.ylim([0.0, 1.05])\n",
    "plt.xlabel('False Positive Rate')\n",
    "plt.ylabel('True Positive Rate')\n",
    "plt.title('Receiver operating characteristic')\n",
    "plt.legend(loc=\"lower right\")\n",
    "plt.savefig('Log_ROC')\n",
    "\n",
    "plt.show()"
   ]
  },
  {
   "cell_type": "markdown",
   "metadata": {},
   "source": [
    "## k-folds cross validation"
   ]
  },
  {
   "cell_type": "code",
   "execution_count": null,
   "metadata": {},
   "outputs": [],
   "source": [
    "import pandas as pd\n",
    "import numpy as np\n",
    "\n",
    "from sklearn.linear_model import LogisticRegression\n",
    "from sklearn.model_selection import train_test_split\n",
    "from sklearn.metrics import classification_report, confusion_matrix\n",
    "import matplotlib.pyplot as plt \n",
    "import seaborn as sns\n",
    "\n",
    "from sklearn.metrics import roc_auc_score\n",
    "from sklearn.metrics import roc_curve\n",
    "\n",
    "from sklearn.model_selection import KFold\n",
    "from sklearn.model_selection import cross_val_score\n",
    "from sklearn.model_selection import RepeatedKFold\n",
    "\n",
    "from numpy import mean\n",
    "from numpy import std\n",
    "\n",
    "pd.set_option(\"display.max_columns\", 50)\n",
    "pd.set_option(\"display.max_rows\", 500)"
   ]
  },
  {
   "cell_type": "code",
   "execution_count": null,
   "metadata": {},
   "outputs": [],
   "source": [
    "ecmodf_analysis = pd.read_csv('ecmodf_analysis_manualedits.csv', index_col=0)\n",
    "ecmodf_analysis['sex'] = ecmodf_analysis['sex'].astype('bool')\n",
    "ecmodf_analysis['death'] = ecmodf_analysis['death'].astype('bool')\n",
    "ecmodf_analysis['rrt'] = ecmodf_analysis['rrt'].astype('bool')\n",
    "ecmodf_analysis['ptx'] = ecmodf_analysis['ptx'].astype('bool')\n",
    "ecmodf_analysis['pe'] = ecmodf_analysis['pe'].astype('bool')\n",
    "ecmodf_analysis['bronchinf'] = ecmodf_analysis['bronchinf'].astype('bool')\n",
    "ecmodf_analysis['ethnic'] = ecmodf_analysis['ethnic'].astype('object')\n",
    "del ecmodf_analysis['admit_date']\n",
    "del ecmodf_analysis['hosp']\n",
    "\n",
    "ecmodf_comorb = pd.read_csv('ecmodf_analysis_comorb.csv', index_col=0)\n",
    "ecmodf_steroids = pd.read_csv('ecmodf_analysis_steroids.csv', index_col=0)\n",
    "ecmodf_analysis = pd.concat([ecmodf_analysis, ecmodf_comorb], axis=1)\n",
    "ecmodf_analysis = pd.concat([ecmodf_analysis, ecmodf_steroids], axis=1)"
   ]
  },
  {
   "cell_type": "code",
   "execution_count": null,
   "metadata": {
    "scrolled": true
   },
   "outputs": [],
   "source": [
    "temp = ecmodf_analysis.copy()\n",
    "\n",
    "temp = pd.concat([temp, pd.get_dummies(temp['cluster'], prefix = 'cluster')], axis=1)\n",
    "temp.drop('cluster', inplace=True, axis=1)\n",
    "\n",
    "temp"
   ]
  },
  {
   "cell_type": "code",
   "execution_count": null,
   "metadata": {
    "scrolled": true
   },
   "outputs": [],
   "source": [
    "regdf = temp.loc[:, ['death', 'sofa', 'age', 'resp', 'cluster_0', 'cluster_1', 'cluster_2', 'rrt', 'ddim', 'v_vv', 'bmi', 'ferritin', 'presteroid', 'hypertension', 'diabetes']]\n",
    "regdf['ddim'] = np.log2(regdf['ddim'])\n",
    "regdf"
   ]
  },
  {
   "cell_type": "code",
   "execution_count": null,
   "metadata": {},
   "outputs": [],
   "source": [
    "#y = predicted outcome\n",
    "y = np.asarray(regdf['rrt'])\n",
    "y.shape"
   ]
  },
  {
   "cell_type": "code",
   "execution_count": null,
   "metadata": {},
   "outputs": [],
   "source": [
    "#X = array of independent variable(s)\n",
    "ind = ['sofa', 'resp', 'cluster_1'] ## modify chosen variables here\n",
    "\n",
    "x0 = np.asarray(regdf.loc[:, ind])\n",
    "\n",
    "X = x0.reshape(56, len(ind))\n",
    "X.shape"
   ]
  },
  {
   "cell_type": "code",
   "execution_count": null,
   "metadata": {},
   "outputs": [],
   "source": [
    "import statsmodels.api as sm\n",
    "\n",
    "logit_model=sm.Logit(y,X)\n",
    "\n",
    "result=logit_model.fit()\n",
    "print(result.summary())"
   ]
  },
  {
   "cell_type": "code",
   "execution_count": null,
   "metadata": {},
   "outputs": [],
   "source": [
    "OR = np.exp(result.params) #odds ratio \n",
    "CI =  np.exp(result.conf_int()) #confidence interval for odds ratio\n",
    "\n",
    "odds_ratios = pd.DataFrame()\n",
    "\n",
    "odds_ratios['var'] = pd.Series(ind)\n",
    "odds_ratios['odds ratio'] = pd.Series(OR)\n",
    "odds_ratios = pd.concat([odds_ratios, pd.DataFrame(CI)], axis=1)\n",
    "#odds_ratios['CI1'] = pd.Series(CI)\n",
    "\n",
    "odds_ratios"
   ]
  },
  {
   "cell_type": "code",
   "execution_count": null,
   "metadata": {},
   "outputs": [],
   "source": [
    "kfold = KFold(n_splits=4) # Define the split\n",
    "kfold.get_n_splits(X) # returns the number of splitting iterations in the cross-validator\n",
    "\n",
    "print(kfold) "
   ]
  },
  {
   "cell_type": "code",
   "execution_count": null,
   "metadata": {},
   "outputs": [],
   "source": [
    "for train_index, test_index in kfold.split(X):\n",
    "    print('TRAIN:', train_index, 'TEST:', test_index)\n",
    "    X_train, X_test = X[train_index], X[test_index]\n",
    "    y_train, y_test = y[train_index], y[test_index]"
   ]
  },
  {
   "cell_type": "code",
   "execution_count": null,
   "metadata": {},
   "outputs": [],
   "source": [
    "model = LogisticRegression(solver='liblinear', class_weight=\"balanced\", penalty='l1', C = 1.0, random_state=0)\n",
    "model.fit(X, y)"
   ]
  },
  {
   "cell_type": "code",
   "execution_count": null,
   "metadata": {},
   "outputs": [],
   "source": [
    "scores = cross_val_score(model, X, y, scoring='roc_auc', cv=kfold, n_jobs=-1)\n",
    "\n",
    "##options for scoring: accuracy, roc_auc, precision, f1"
   ]
  },
  {
   "cell_type": "code",
   "execution_count": null,
   "metadata": {},
   "outputs": [],
   "source": [
    "print(scores)"
   ]
  },
  {
   "cell_type": "code",
   "execution_count": null,
   "metadata": {},
   "outputs": [],
   "source": [
    "print('ROC AUC: %.3f (%.3f)' % (mean(scores), std(scores)))"
   ]
  },
  {
   "cell_type": "code",
   "execution_count": null,
   "metadata": {},
   "outputs": [],
   "source": []
  }
 ],
 "metadata": {
  "kernelspec": {
   "display_name": "Python 3",
   "language": "python",
   "name": "python3"
  },
  "language_info": {
   "codemirror_mode": {
    "name": "ipython",
    "version": 3
   },
   "file_extension": ".py",
   "mimetype": "text/x-python",
   "name": "python",
   "nbconvert_exporter": "python",
   "pygments_lexer": "ipython3",
   "version": "3.8.8"
  }
 },
 "nbformat": 4,
 "nbformat_minor": 4
}
