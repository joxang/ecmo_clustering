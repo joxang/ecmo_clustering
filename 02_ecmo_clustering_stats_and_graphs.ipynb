{
 "cells": [
  {
   "cell_type": "code",
   "execution_count": null,
   "metadata": {},
   "outputs": [],
   "source": [
    "import pandas as pd #make data-frames and summarise data\n",
    "import numpy as np #manipulate multi-dimensional arrays\n",
    "import os as os #file system read\n",
    "import matplotlib.pyplot as plt #visualisation\n",
    "import seaborn as sns\n",
    "from scipy import stats #stats tests\n",
    "from sklearn import preprocessing\n",
    "from sklearn.cluster import KMeans\n",
    "from scipy.stats import ttest_ind \n",
    "from scipy.stats import fisher_exact"
   ]
  },
  {
   "cell_type": "code",
   "execution_count": null,
   "metadata": {},
   "outputs": [],
   "source": [
    "ecmodf = pd.read_csv('data/ecmo.csv', index_col=0)\n",
    "ecmodf = ecmodf.drop(columns=['sx_v', 'neut', 'cr'])\n",
    "print(ecmodf.isnull().sum()) #count null values"
   ]
  },
  {
   "cell_type": "code",
   "execution_count": null,
   "metadata": {},
   "outputs": [],
   "source": [
    "ecmodf.fillna(ecmodf.mean(), inplace=True) #impute null values with mean of column\n",
    "print(ecmodf.isnull().sum()) #recount null values"
   ]
  },
  {
   "cell_type": "code",
   "execution_count": null,
   "metadata": {},
   "outputs": [],
   "source": [
    "ecmodf['bmi'] = ecmodf['bmi'].astype('int64')\n",
    "ecmodf.head()"
   ]
  },
  {
   "cell_type": "code",
   "execution_count": null,
   "metadata": {},
   "outputs": [],
   "source": [
    "ecmodf.hist(layout=(5,3), figsize=(12,16)) #visual normality check"
   ]
  },
  {
   "cell_type": "code",
   "execution_count": null,
   "metadata": {},
   "outputs": [],
   "source": [
    "sval, pval = stats.normaltest(ecmodf)  #D'Agostino-Pearson test\n",
    "pval = np.round(pval, 4)\n",
    "pval"
   ]
  },
  {
   "cell_type": "code",
   "execution_count": null,
   "metadata": {},
   "outputs": [],
   "source": [
    "normality_df = pd.DataFrame([pval], [0], columns=ecmodf.columns)\n",
    "normality_df"
   ]
  },
  {
   "cell_type": "code",
   "execution_count": null,
   "metadata": {},
   "outputs": [],
   "source": [
    "norm = []\n",
    "for column in normality_df:\n",
    "        if normality_df.loc[0, column] < 0.05: #in normality df, at each location row 0, per column\n",
    "            norm.append(\"not normal\") #append text to norm array\n",
    "        else:\n",
    "            norm.append(\"normal\")\n",
    "normality_df.loc[1] = norm #adds norm to row 1\n",
    "normality_df\n",
    "            "
   ]
  },
  {
   "cell_type": "code",
   "execution_count": null,
   "metadata": {},
   "outputs": [],
   "source": [
    "ecmodf_norm = ecmodf.copy()"
   ]
  },
  {
   "cell_type": "code",
   "execution_count": null,
   "metadata": {},
   "outputs": [],
   "source": [
    "ecmodf_norm['ddim'] = np.log(ecmodf_norm['ddim']) #log conversion of skewed variables - days and sofa not included as would not expected to conform to a power law distribution\n",
    "ecmodf_norm['ferritin'] = np.log(ecmodf_norm['ferritin'])\n",
    "ecmodf_norm['pct'] = np.log(ecmodf_norm['pct'])\n",
    "ecmodf_norm['nlrat'] = np.log(ecmodf_norm['nlrat'])\n",
    "ecmodf_norm['lymph'] = np.log(ecmodf_norm['lymph'])\n",
    "ecmodf_norm['pplat'] = np.log(ecmodf_norm['pplat'])\n",
    "ecmodf_norm['pco2'] = np.log(ecmodf_norm['pco2'])\n",
    "ecmodf_norm['bmi'] = np.log(ecmodf_norm['bmi'])"
   ]
  },
  {
   "cell_type": "code",
   "execution_count": null,
   "metadata": {},
   "outputs": [],
   "source": [
    "ecmodf_norm.hist(layout=(5,3), figsize=(12,16)) #visual normality check"
   ]
  },
  {
   "cell_type": "code",
   "execution_count": null,
   "metadata": {},
   "outputs": [],
   "source": [
    "normalize = preprocessing.MinMaxScaler()\n",
    "ecmodf_normalized = normalize.fit_transform(ecmodf_norm)\n",
    "ecmodf_normalized = pd.DataFrame(ecmodf_normalized)\n",
    "ecmodf_normalized.columns = ecmodf_norm.columns\n",
    "ecmodf_normalized.hist(layout=(5,3), figsize=(12,16)) #visual normality check\n",
    "\n",
    "ecmodf_normalized.to_csv(r'ecmodf_norm.csv', header=True)"
   ]
  },
  {
   "cell_type": "code",
   "execution_count": null,
   "metadata": {},
   "outputs": [],
   "source": [
    "inertia = []\n",
    "K = range(1,10)\n",
    "for k in K:\n",
    "    kmeanModel = KMeans(n_clusters=k, init='k-means++')\n",
    "    kmeanModel.fit(ecmodf_normalized)\n",
    "    inertia.append(kmeanModel.inertia_)\n",
    "    \n",
    "plt.figure(figsize=(16,8))\n",
    "plt.plot(K, inertia, 'bx-')\n",
    "plt.xlabel('k')\n",
    "plt.ylabel('inertia')\n",
    "plt.title('The Elbow Method showing the optimal k')\n",
    "plt.show()"
   ]
  },
  {
   "cell_type": "code",
   "execution_count": null,
   "metadata": {},
   "outputs": [],
   "source": [
    "kmeans = KMeans(n_clusters=3, init='k-means++', n_init=1000, n_jobs=-1).fit(ecmodf_normalized)\n",
    "centroids = kmeans.cluster_centers_\n",
    "print(centroids)\n",
    "\n",
    "plt.scatter(ecmodf_normalized['ferritin'], ecmodf_normalized['ddim'], c= kmeans.labels_.astype(float), s=50, alpha=0.5)\n",
    "plt.scatter(centroids[:, 0], centroids[:, 1], c='red', s=50)\n",
    "plt.show()"
   ]
  },
  {
   "cell_type": "code",
   "execution_count": null,
   "metadata": {},
   "outputs": [],
   "source": [
    "pred = kmeans.predict(ecmodf_normalized)\n",
    "ecmodf_clustered = pd.DataFrame(ecmodf)\n",
    "ecmodf_clustered['cluster'] = pred\n",
    "ecmodf_clustered"
   ]
  },
  {
   "cell_type": "code",
   "execution_count": null,
   "metadata": {},
   "outputs": [],
   "source": [
    "outcomesdf = pd.read_csv('outcomes.csv', index_col=0) #sex M=0, F=1; ethnic W=0, B=1, SA/EA=2; na = peak dose during admission\n",
    "ecmodf_analysis = ecmodf_clustered.join(outcomesdf) #join outcomes data to clustering df\n",
    "ecmodf_analysis.head()"
   ]
  },
  {
   "cell_type": "code",
   "execution_count": null,
   "metadata": {},
   "outputs": [],
   "source": [
    "ecmodf_analysis['sex'] = ecmodf_analysis['sex'].astype('bool')\n",
    "ecmodf_analysis['death'] = ecmodf_analysis['death'].astype('bool')\n",
    "ecmodf_analysis['rrt'] = ecmodf_analysis['rrt'].astype('bool')\n",
    "ecmodf_analysis['ethnic'] = ecmodf_analysis['ethnic'].astype('object')\n",
    "ecmodf_analysis.to_csv(r'ecmodf_analysis.csv', header=True)"
   ]
  },
  {
   "cell_type": "code",
   "execution_count": null,
   "metadata": {},
   "outputs": [],
   "source": [
    "ecmoclus0 = ecmodf_analysis[ecmodf_analysis.cluster == 0] #split off into separate cluster dfs\n",
    "ecmoclus1 = ecmodf_analysis[ecmodf_analysis.cluster == 1]\n",
    "ecmoclus2 = ecmodf_analysis[ecmodf_analysis.cluster == 2]"
   ]
  },
  {
   "cell_type": "code",
   "execution_count": null,
   "metadata": {},
   "outputs": [],
   "source": [
    "ecmoclus0.describe()"
   ]
  },
  {
   "cell_type": "code",
   "execution_count": null,
   "metadata": {},
   "outputs": [],
   "source": [
    "ecmoclus0.describe(exclude=['float64', 'int64'])"
   ]
  },
  {
   "cell_type": "code",
   "execution_count": null,
   "metadata": {},
   "outputs": [],
   "source": [
    "ecmoclus1.describe()"
   ]
  },
  {
   "cell_type": "code",
   "execution_count": null,
   "metadata": {},
   "outputs": [],
   "source": [
    "ecmoclus1.describe(exclude=['float64', 'int64'])"
   ]
  },
  {
   "cell_type": "code",
   "execution_count": null,
   "metadata": {},
   "outputs": [],
   "source": [
    "ecmoclus2.describe()"
   ]
  },
  {
   "cell_type": "code",
   "execution_count": null,
   "metadata": {},
   "outputs": [],
   "source": [
    "ecmoclus2.describe(exclude=['float64', 'int64'])"
   ]
  },
  {
   "cell_type": "code",
   "execution_count": null,
   "metadata": {},
   "outputs": [],
   "source": [
    "ecmodf_analysis['cluster'].value_counts() #counts numbers in each cluster"
   ]
  },
  {
   "cell_type": "code",
   "execution_count": null,
   "metadata": {},
   "outputs": [],
   "source": [
    "#steve stats code\n",
    "ecmodf_summ = pd.DataFrame(index = ['C0', 'C1', 'C2'] , columns = ecmodf_analysis.columns) #create new table to show characteristics per cluster\n",
    "\n",
    "for column in ecmoclus0: #mean of each column in each cluster\n",
    "    ecmodf_summ.loc['C0', column] = ecmoclus0[column].mean(axis=0)\n",
    "    \n",
    "for column in ecmoclus1:\n",
    "    ecmodf_summ.loc['C1', column] = ecmoclus1[column].mean(axis=0)\n",
    "    \n",
    "for column in ecmoclus2:\n",
    "    ecmodf_summ.loc['C2', column] = ecmoclus2[column].mean(axis=0)\n",
    "    \n",
    "del ecmodf_summ['cluster'] #delete categorical values\n",
    "del ecmodf_summ['death']\n",
    "del ecmodf_summ['rrt']\n",
    "del ecmodf_summ['sex']\n",
    "del ecmodf_summ['ethnic']\n",
    "    \n",
    "ecmodf_summ"
   ]
  },
  {
   "cell_type": "code",
   "execution_count": null,
   "metadata": {},
   "outputs": [],
   "source": [
    "# Setup data frames for mortality contingency tables\n",
    "# Compare one cluster against the other two clusters\n",
    "\n",
    "mort0 = pd.DataFrame(index=['Alive', 'Dead'], columns=['C0', 'Rest'])\n",
    "mort1 = pd.DataFrame(index=['Alive', 'Dead'], columns=['C1', 'Rest'])\n",
    "mort2 = pd.DataFrame(index=['Alive', 'Dead'], columns=['C2', 'Rest'])\n",
    "\n",
    "mort0.loc['Alive','C0'] = (~ecmoclus0['death']).values.sum()\n",
    "mort0.loc['Dead','C0'] = ecmoclus0['death'].values.sum()\n",
    "mort0.loc['Alive','Rest'] = (~ecmoclus1['death']).values.sum() + (~ecmoclus2['death']).values.sum()\n",
    "mort0.loc['Dead','Rest'] = ecmoclus1['death'].values.sum() + ecmoclus2['death'].values.sum()\n",
    "\n",
    "mort1.loc['Alive','C1'] = (~ecmoclus1['death']).values.sum()\n",
    "mort1.loc['Dead','C1'] = ecmoclus1['death'].values.sum()\n",
    "mort1.loc['Alive','Rest'] = (~ecmoclus0['death']).values.sum() + (~ecmoclus2['death']).values.sum()\n",
    "mort1.loc['Dead','Rest'] = ecmoclus0['death'].values.sum() + ecmoclus2['death'].values.sum()\n",
    "\n",
    "mort2.loc['Alive','C2'] = (~ecmoclus2['death']).values.sum()\n",
    "mort2.loc['Dead','C2'] = ecmoclus2['death'].values.sum()\n",
    "mort2.loc['Alive','Rest'] = (~ecmoclus1['death']).values.sum() + (~ecmoclus0['death']).values.sum()\n",
    "mort2.loc['Dead','Rest'] = ecmoclus1['death'].values.sum() + ecmoclus0['death'].values.sum()\n",
    "\n",
    "print(mort0)\n",
    "print(mort1)\n",
    "print(mort2)"
   ]
  },
  {
   "cell_type": "code",
   "execution_count": null,
   "metadata": {},
   "outputs": [],
   "source": [
    "# Fisher exact test to compare mortality of each cluster vs the rest\n",
    "\n",
    "mort0OR, mort0PVAL = stats.fisher_exact(mort0)\n",
    "mort1OR, mort1PVAL = stats.fisher_exact(mort1)\n",
    "mort2OR, mort2PVAL = stats.fisher_exact(mort2)\n",
    "\n",
    "if mort0PVAL <0.05:\n",
    "    print(\"there is a significant difference between mortality in C0 and all other patients\")\n",
    "    print(mort0PVAL)\n",
    "else:\n",
    "    print(\"there is NOT a significant difference between mortality in C0 and all other patients\")\n",
    "    print(mort0PVAL)\n",
    "    \n",
    "if mort1PVAL <0.05:\n",
    "    print(\"there is a significant difference between mortality in C1 and all other patients\")\n",
    "    print(mort1PVAL)\n",
    "else:\n",
    "    print(\"there is NOT a significant difference between mortality in C1 and all other patients\")\n",
    "    print(mort1PVAL)\n",
    "    \n",
    "if mort2PVAL <0.05:\n",
    "    print(\"there is a significant difference between mortality in C2 and all other patients\")\n",
    "    print(mort2PVAL)\n",
    "else:\n",
    "    print(\"there is NOT a significant difference between mortality in C2 and all other patients\")\n",
    "    print(mort2PVAL)"
   ]
  },
  {
   "cell_type": "code",
   "execution_count": null,
   "metadata": {},
   "outputs": [],
   "source": [
    "# Setup data frames for RRT contingency tables\n",
    "# Compare one cluster against the other two clusters\n",
    "\n",
    "rrt0 = pd.DataFrame(index=['RRT', 'No RRT'], columns=['C0', 'Rest'])\n",
    "rrt1 = pd.DataFrame(index=['RRT', 'No RRT'], columns=['C1', 'Rest'])\n",
    "rrt2 = pd.DataFrame(index=['RRT', 'No RRT'], columns=['C2', 'Rest'])\n",
    "\n",
    "rrt0.loc['No RRT','C0'] = (~ecmoclus0['rrt']).values.sum()\n",
    "rrt0.loc['RRT','C0'] = ecmoclus0['rrt'].values.sum()\n",
    "rrt0.loc['No RRT','Rest'] = (~ecmoclus1['rrt']).values.sum() + (~ecmoclus2['rrt']).values.sum()\n",
    "rrt0.loc['RRT','Rest'] = ecmoclus1['rrt'].values.sum() + ecmoclus2['rrt'].values.sum()\n",
    "\n",
    "rrt1.loc['No RRT','C1'] = (~ecmoclus1['rrt']).values.sum()\n",
    "rrt1.loc['RRT','C1'] = ecmoclus1['rrt'].values.sum()\n",
    "rrt1.loc['No RRT','Rest'] = (~ecmoclus0['rrt']).values.sum() + (~ecmoclus2['rrt']).values.sum()\n",
    "rrt1.loc['RRT','Rest'] = ecmoclus0['rrt'].values.sum() + ecmoclus2['rrt'].values.sum()\n",
    "\n",
    "rrt2.loc['No RRT','C2'] = (~ecmoclus2['rrt']).values.sum()\n",
    "rrt2.loc['RRT','C2'] = ecmoclus2['rrt'].values.sum()\n",
    "rrt2.loc['No RRT','Rest'] = (~ecmoclus1['rrt']).values.sum() + (~ecmoclus0['death']).values.sum()\n",
    "rrt2.loc['RRT','Rest'] = ecmoclus1['rrt'].values.sum() + ecmoclus0['death'].values.sum()\n",
    "\n",
    "print(rrt0)\n",
    "print(rrt1)\n",
    "print(rrt2)"
   ]
  },
  {
   "cell_type": "code",
   "execution_count": null,
   "metadata": {},
   "outputs": [],
   "source": [
    "# Fisher exact test to compare RRT of each cluster vs the rest\n",
    "\n",
    "rrt0OR, rrt0PVAL = stats.fisher_exact(rrt0)\n",
    "rrt1OR, rrt1PVAL = stats.fisher_exact(rrt1)\n",
    "rrt2OR, rrt2PVAL = stats.fisher_exact(rrt2)\n",
    "\n",
    "if rrt0PVAL <0.05:\n",
    "    print(\"there is a significant difference between RRT in C0 and all other patients\")\n",
    "    print(rrt0PVAL)\n",
    "else:\n",
    "    print(\"there is NOT a significant difference between RRT in C0 and all other patients\")\n",
    "    print(rrt0PVAL)\n",
    "    \n",
    "if rrt1PVAL <0.05:\n",
    "    print(\"there is a significant difference between RRT in C1 and all other patients\")\n",
    "    print(rrt1PVAL)\n",
    "else:\n",
    "    print(\"there is NOT a significant difference between RRT in C1 and all other patients\")\n",
    "    print(rrt1PVAL)\n",
    "    \n",
    "if rrt2PVAL <0.05:\n",
    "    print(\"there is a significant difference between RRT in C2 and all other patients\")\n",
    "    print(rrt2PVAL)\n",
    "else:\n",
    "    print(\"there is NOT a significant difference between RRT in C2 and all other patients\")\n",
    "    print(rrt2PVAL)"
   ]
  },
  {
   "cell_type": "code",
   "execution_count": null,
   "metadata": {},
   "outputs": [],
   "source": [
    "# split into alive and dead dataframes\n",
    "\n",
    "ecmodf_alive = ecmodf_analysis[ecmodf_analysis['death'] == False]\n",
    "ecmodf_dead = ecmodf_analysis[ecmodf_analysis['death'] == True]"
   ]
  },
  {
   "cell_type": "code",
   "execution_count": null,
   "metadata": {},
   "outputs": [],
   "source": [
    "# Mann-Whitney U test to compare means of variables between alive and dead\n",
    "\n",
    "print(\"\"\"Compare variables between alive and dead for statistical significance\n",
    "----------------------------------------------------------------------\n",
    "      \"\"\")\n",
    "for column in ecmodf_alive:\n",
    "    a = ecmodf_alive[column]\n",
    "    b = ecmodf_dead[column]\n",
    "    stat, pval = stats.mannwhitneyu(a, b, alternative='two-sided')\n",
    "    if pval < 0.05:\n",
    "        print(str(column) + \" difference is statistically significant with a p-value of: \" + str(pval))\n",
    "    if pval >0.05:\n",
    "        print(str(column) + \" difference is NOT statistically significant with a p-value of: \" + str(pval))"
   ]
  },
  {
   "cell_type": "code",
   "execution_count": null,
   "metadata": {},
   "outputs": [],
   "source": [
    "# Create a new dataframe with nice labels for graphing reasons\n",
    "\n",
    "nicenames = ['Age (years)', 'BMI (kg/m2)', 'Admission to IMV (days)', 'Ventilation to ECMO (days)', 'SOFA score', 'PF Ratio', 'pCO2 (kPa)', 'Pplat (cmH2O)', 'Lymphocyte count', 'N/L Ratio', 'Procalcitonin', 'Ferritin', 'CRP', 'Fibrinogen', 'D-Dimer', 'Cluster ID']\n",
    "ecmodf_names = ecmodf_clustered\n",
    "ecmodf_names.columns = nicenames"
   ]
  },
  {
   "cell_type": "code",
   "execution_count": null,
   "metadata": {},
   "outputs": [],
   "source": [
    "# Box plot for each variable by cluster\n",
    "\n",
    "for column in ecmodf_names.columns[:15]:\n",
    "        plt.rcParams[\"axes.labelsize\"] = 30\n",
    "        plt.figure(figsize=(10,10))\n",
    "        sns.set(style='whitegrid', palette='pastel', font_scale=2)\n",
    "        sns.boxplot(data = ecmodf_clustered, x = 'Cluster ID', y=column, showmeans=True, showfliers=False, saturation=0.9, meanprops={\"marker\":\"s\",\"markerfacecolor\":\"white\", \"markeredgecolor\":\"grey\"})"
   ]
  },
  {
   "cell_type": "code",
   "execution_count": null,
   "metadata": {},
   "outputs": [],
   "source": [
    "# Make DF suitable for strip plot\n",
    "\n",
    "ecmodf_normalized_clustered = pd.DataFrame(ecmodf_normalized)\n",
    "ecmodf_normalized_clustered['cluster'] = pred\n",
    "ecmodf_normalized_names = ecmodf_normalized_clustered\n",
    "ecmodf_normalized_names.columns = nicenames\n",
    "melted = pd.melt(ecmodf_normalized_clustered, id_vars='Cluster ID')"
   ]
  },
  {
   "cell_type": "code",
   "execution_count": null,
   "metadata": {},
   "outputs": [],
   "source": [
    "# Plot strip plot\n",
    "\n",
    "plt.figure(figsize=(10,15))\n",
    "stripplot = sns.stripplot(data=melted, x='variable', y='value', hue='Cluster ID', jitter=0.2, alpha=0.6, dodge=False, palette='bright')\n",
    "stripplot.set_xticklabels(stripplot.get_xticklabels(), rotation=90, horizontalalignment='right', fontweight='light', fontsize='large')\n",
    "stripplot.set_ylabel(\"Normalised Scale\", fontweight='light', fontsize='large')\n",
    "stripplot.set_title('Distribution of data and clusters by variable', fontweight='light', fontsize='xx-large')\n",
    "plt.savefig(figures/\"ECMOClusterStripPlot3.png\")"
   ]
  },
  {
   "cell_type": "code",
   "execution_count": null,
   "metadata": {},
   "outputs": [],
   "source": []
  }
 ],
 "metadata": {
  "kernelspec": {
   "display_name": "Python 3",
   "language": "python",
   "name": "python3"
  },
  "language_info": {
   "codemirror_mode": {
    "name": "ipython",
    "version": 3
   },
   "file_extension": ".py",
   "mimetype": "text/x-python",
   "name": "python",
   "nbconvert_exporter": "python",
   "pygments_lexer": "ipython3",
   "version": "3.8.8"
  }
 },
 "nbformat": 4,
 "nbformat_minor": 4
}
